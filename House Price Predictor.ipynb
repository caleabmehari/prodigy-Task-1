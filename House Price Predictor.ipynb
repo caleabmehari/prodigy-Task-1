{
 "cells": [
  {
   "cell_type": "code",
   "execution_count": 63,
   "metadata": {},
   "outputs": [
    {
     "name": "stdout",
     "output_type": "stream",
     "text": [
      "Collecting plotlyNote: you may need to restart the kernel to use updated packages.\n",
      "\n",
      "  Downloading plotly-5.22.0-py3-none-any.whl.metadata (7.1 kB)\n",
      "Collecting tenacity>=6.2.0 (from plotly)\n",
      "  Downloading tenacity-8.3.0-py3-none-any.whl.metadata (1.2 kB)\n",
      "Requirement already satisfied: packaging in c:\\users\\hp\\appdata\\local\\programs\\python\\python311\\lib\\site-packages (from plotly) (23.1)\n",
      "Downloading plotly-5.22.0-py3-none-any.whl (16.4 MB)\n",
      "   ---------------------------------------- 0.0/16.4 MB ? eta -:--:--\n",
      "   ---------------------------------------- 0.0/16.4 MB 1.3 MB/s eta 0:00:13\n",
      "   ---------------------------------------- 0.1/16.4 MB 544.7 kB/s eta 0:00:31\n",
      "   ---------------------------------------- 0.1/16.4 MB 819.2 kB/s eta 0:00:20\n",
      "   ---------------------------------------- 0.2/16.4 MB 893.0 kB/s eta 0:00:19\n",
      "   ---------------------------------------- 0.2/16.4 MB 893.0 kB/s eta 0:00:19\n",
      "   ---------------------------------------- 0.2/16.4 MB 893.0 kB/s eta 0:00:19\n",
      "    --------------------------------------- 0.2/16.4 MB 689.6 kB/s eta 0:00:24\n",
      "   - -------------------------------------- 0.4/16.4 MB 1.2 MB/s eta 0:00:14\n",
      "   - -------------------------------------- 0.5/16.4 MB 1.1 MB/s eta 0:00:15\n",
      "   - -------------------------------------- 0.6/16.4 MB 1.2 MB/s eta 0:00:14\n",
      "   - -------------------------------------- 0.6/16.4 MB 1.2 MB/s eta 0:00:14\n",
      "   - -------------------------------------- 0.7/16.4 MB 1.1 MB/s eta 0:00:14\n",
      "   - -------------------------------------- 0.7/16.4 MB 1.2 MB/s eta 0:00:14\n",
      "   -- ------------------------------------- 0.8/16.4 MB 1.2 MB/s eta 0:00:13\n",
      "   -- ------------------------------------- 0.9/16.4 MB 1.2 MB/s eta 0:00:13\n",
      "   -- ------------------------------------- 1.0/16.4 MB 1.3 MB/s eta 0:00:13\n",
      "   -- ------------------------------------- 1.0/16.4 MB 1.3 MB/s eta 0:00:13\n",
      "   -- ------------------------------------- 1.1/16.4 MB 1.3 MB/s eta 0:00:12\n",
      "   -- ------------------------------------- 1.2/16.4 MB 1.3 MB/s eta 0:00:12\n",
      "   -- ------------------------------------- 1.2/16.4 MB 1.3 MB/s eta 0:00:12\n",
      "   --- ------------------------------------ 1.4/16.4 MB 1.4 MB/s eta 0:00:12\n",
      "   --- ------------------------------------ 1.4/16.4 MB 1.4 MB/s eta 0:00:12\n",
      "   --- ------------------------------------ 1.4/16.4 MB 1.3 MB/s eta 0:00:12\n",
      "   --- ------------------------------------ 1.5/16.4 MB 1.3 MB/s eta 0:00:12\n",
      "   --- ------------------------------------ 1.6/16.4 MB 1.3 MB/s eta 0:00:12\n",
      "   ---- ----------------------------------- 1.6/16.4 MB 1.3 MB/s eta 0:00:12\n",
      "   ---- ----------------------------------- 1.7/16.4 MB 1.4 MB/s eta 0:00:11\n",
      "   ---- ----------------------------------- 1.7/16.4 MB 1.4 MB/s eta 0:00:11\n",
      "   ---- ----------------------------------- 1.9/16.4 MB 1.4 MB/s eta 0:00:11\n",
      "   ---- ----------------------------------- 1.9/16.4 MB 1.4 MB/s eta 0:00:11\n",
      "   ---- ----------------------------------- 2.0/16.4 MB 1.3 MB/s eta 0:00:11\n",
      "   ----- ---------------------------------- 2.1/16.4 MB 1.4 MB/s eta 0:00:11\n",
      "   ----- ---------------------------------- 2.1/16.4 MB 1.4 MB/s eta 0:00:11\n",
      "   ----- ---------------------------------- 2.2/16.4 MB 1.4 MB/s eta 0:00:11\n",
      "   ----- ---------------------------------- 2.3/16.4 MB 1.4 MB/s eta 0:00:10\n",
      "   ----- ---------------------------------- 2.4/16.4 MB 1.4 MB/s eta 0:00:10\n",
      "   ----- ---------------------------------- 2.4/16.4 MB 1.4 MB/s eta 0:00:10\n",
      "   ----- ---------------------------------- 2.4/16.4 MB 1.4 MB/s eta 0:00:10\n",
      "   ------ --------------------------------- 2.6/16.4 MB 1.5 MB/s eta 0:00:10\n",
      "   ------ --------------------------------- 2.6/16.4 MB 1.5 MB/s eta 0:00:10\n",
      "   ------ --------------------------------- 2.6/16.4 MB 1.4 MB/s eta 0:00:10\n",
      "   ------ --------------------------------- 2.8/16.4 MB 1.5 MB/s eta 0:00:10\n",
      "   ------- -------------------------------- 2.9/16.4 MB 1.5 MB/s eta 0:00:10\n",
      "   ------- -------------------------------- 3.0/16.4 MB 1.5 MB/s eta 0:00:10\n",
      "   ------- -------------------------------- 3.1/16.4 MB 1.5 MB/s eta 0:00:09\n",
      "   ------- -------------------------------- 3.2/16.4 MB 1.5 MB/s eta 0:00:09\n",
      "   ------- -------------------------------- 3.2/16.4 MB 1.5 MB/s eta 0:00:09\n",
      "   -------- ------------------------------- 3.4/16.4 MB 1.5 MB/s eta 0:00:09\n",
      "   -------- ------------------------------- 3.5/16.4 MB 1.5 MB/s eta 0:00:09\n",
      "   -------- ------------------------------- 3.5/16.4 MB 1.5 MB/s eta 0:00:09\n",
      "   -------- ------------------------------- 3.7/16.4 MB 1.5 MB/s eta 0:00:09\n",
      "   --------- ------------------------------ 3.7/16.4 MB 1.6 MB/s eta 0:00:09\n",
      "   --------- ------------------------------ 3.8/16.4 MB 1.5 MB/s eta 0:00:09\n",
      "   --------- ------------------------------ 3.8/16.4 MB 1.5 MB/s eta 0:00:09\n",
      "   --------- ------------------------------ 4.0/16.4 MB 1.6 MB/s eta 0:00:08\n",
      "   --------- ------------------------------ 4.0/16.4 MB 1.6 MB/s eta 0:00:08\n",
      "   ---------- ----------------------------- 4.2/16.4 MB 1.6 MB/s eta 0:00:08\n",
      "   ---------- ----------------------------- 4.2/16.4 MB 1.6 MB/s eta 0:00:08\n",
      "   ---------- ----------------------------- 4.3/16.4 MB 1.6 MB/s eta 0:00:08\n",
      "   ---------- ----------------------------- 4.3/16.4 MB 1.6 MB/s eta 0:00:08\n",
      "   ---------- ----------------------------- 4.5/16.4 MB 1.6 MB/s eta 0:00:08\n",
      "   ----------- ---------------------------- 4.5/16.4 MB 1.6 MB/s eta 0:00:08\n",
      "   ----------- ---------------------------- 4.5/16.4 MB 1.6 MB/s eta 0:00:08\n",
      "   ----------- ---------------------------- 4.6/16.4 MB 1.6 MB/s eta 0:00:08\n",
      "   ----------- ---------------------------- 4.7/16.4 MB 1.6 MB/s eta 0:00:08\n",
      "   ----------- ---------------------------- 4.8/16.4 MB 1.6 MB/s eta 0:00:08\n",
      "   ----------- ---------------------------- 4.8/16.4 MB 1.6 MB/s eta 0:00:08\n",
      "   ------------ --------------------------- 5.0/16.4 MB 1.6 MB/s eta 0:00:08\n",
      "   ------------ --------------------------- 5.0/16.4 MB 1.6 MB/s eta 0:00:08\n",
      "   ------------ --------------------------- 5.2/16.4 MB 1.6 MB/s eta 0:00:07\n",
      "   ------------ --------------------------- 5.2/16.4 MB 1.6 MB/s eta 0:00:07\n",
      "   ------------ --------------------------- 5.2/16.4 MB 1.6 MB/s eta 0:00:07\n",
      "   ------------- -------------------------- 5.4/16.4 MB 1.6 MB/s eta 0:00:07\n",
      "   ------------- -------------------------- 5.4/16.4 MB 1.6 MB/s eta 0:00:07\n",
      "   ------------- -------------------------- 5.6/16.4 MB 1.6 MB/s eta 0:00:07\n",
      "   ------------- -------------------------- 5.6/16.4 MB 1.6 MB/s eta 0:00:07\n",
      "   -------------- ------------------------- 5.8/16.4 MB 1.6 MB/s eta 0:00:07\n",
      "   -------------- ------------------------- 5.8/16.4 MB 1.6 MB/s eta 0:00:07\n",
      "   -------------- ------------------------- 5.8/16.4 MB 1.6 MB/s eta 0:00:07\n",
      "   -------------- ------------------------- 5.9/16.4 MB 1.6 MB/s eta 0:00:07\n",
      "   -------------- ------------------------- 6.0/16.4 MB 1.6 MB/s eta 0:00:07\n",
      "   -------------- ------------------------- 6.2/16.4 MB 1.6 MB/s eta 0:00:07\n",
      "   --------------- ------------------------ 6.2/16.4 MB 1.6 MB/s eta 0:00:07\n",
      "   --------------- ------------------------ 6.2/16.4 MB 1.6 MB/s eta 0:00:07\n",
      "   --------------- ------------------------ 6.4/16.4 MB 1.6 MB/s eta 0:00:07\n",
      "   --------------- ------------------------ 6.4/16.4 MB 1.6 MB/s eta 0:00:07\n",
      "   --------------- ------------------------ 6.4/16.4 MB 1.6 MB/s eta 0:00:07\n",
      "   --------------- ------------------------ 6.5/16.4 MB 1.6 MB/s eta 0:00:07\n",
      "   ---------------- ----------------------- 6.6/16.4 MB 1.6 MB/s eta 0:00:07\n",
      "   ---------------- ----------------------- 6.7/16.4 MB 1.6 MB/s eta 0:00:07\n",
      "   ---------------- ----------------------- 6.8/16.4 MB 1.6 MB/s eta 0:00:06\n",
      "   ---------------- ----------------------- 6.9/16.4 MB 1.6 MB/s eta 0:00:06\n",
      "   ----------------- ---------------------- 7.0/16.4 MB 1.6 MB/s eta 0:00:06\n",
      "   ----------------- ---------------------- 7.1/16.4 MB 1.6 MB/s eta 0:00:06\n",
      "   ----------------- ---------------------- 7.1/16.4 MB 1.6 MB/s eta 0:00:06\n",
      "   ----------------- ---------------------- 7.3/16.4 MB 1.7 MB/s eta 0:00:06\n",
      "   ----------------- ---------------------- 7.3/16.4 MB 1.6 MB/s eta 0:00:06\n",
      "   ------------------ --------------------- 7.4/16.4 MB 1.7 MB/s eta 0:00:06\n",
      "   ------------------ --------------------- 7.5/16.4 MB 1.7 MB/s eta 0:00:06\n",
      "   ------------------ --------------------- 7.6/16.4 MB 1.7 MB/s eta 0:00:06\n",
      "   ------------------ --------------------- 7.7/16.4 MB 1.7 MB/s eta 0:00:06\n",
      "   ------------------- -------------------- 7.8/16.4 MB 1.7 MB/s eta 0:00:06\n",
      "   ------------------- -------------------- 7.9/16.4 MB 1.7 MB/s eta 0:00:06\n",
      "   ------------------- -------------------- 8.0/16.4 MB 1.7 MB/s eta 0:00:06\n",
      "   ------------------- -------------------- 8.0/16.4 MB 1.7 MB/s eta 0:00:06\n",
      "   ------------------- -------------------- 8.1/16.4 MB 1.7 MB/s eta 0:00:05\n",
      "   ------------------- -------------------- 8.1/16.4 MB 1.7 MB/s eta 0:00:05\n",
      "   ------------------- -------------------- 8.1/16.4 MB 1.7 MB/s eta 0:00:06\n",
      "   ------------------- -------------------- 8.1/16.4 MB 1.7 MB/s eta 0:00:06\n",
      "   ------------------- -------------------- 8.1/16.4 MB 1.7 MB/s eta 0:00:06\n",
      "   ------------------- -------------------- 8.2/16.4 MB 1.6 MB/s eta 0:00:06\n",
      "   -------------------- ------------------- 8.3/16.4 MB 1.6 MB/s eta 0:00:05\n",
      "   -------------------- ------------------- 8.4/16.4 MB 1.6 MB/s eta 0:00:05\n",
      "   -------------------- ------------------- 8.5/16.4 MB 1.6 MB/s eta 0:00:05\n",
      "   -------------------- ------------------- 8.5/16.4 MB 1.6 MB/s eta 0:00:05\n",
      "   -------------------- ------------------- 8.6/16.4 MB 1.6 MB/s eta 0:00:05\n",
      "   --------------------- ------------------ 8.7/16.4 MB 1.6 MB/s eta 0:00:05\n",
      "   --------------------- ------------------ 8.8/16.4 MB 1.6 MB/s eta 0:00:05\n",
      "   --------------------- ------------------ 8.9/16.4 MB 1.6 MB/s eta 0:00:05\n",
      "   --------------------- ------------------ 9.0/16.4 MB 1.6 MB/s eta 0:00:05\n",
      "   ---------------------- ----------------- 9.1/16.4 MB 1.6 MB/s eta 0:00:05\n",
      "   ---------------------- ----------------- 9.1/16.4 MB 1.6 MB/s eta 0:00:05\n",
      "   ---------------------- ----------------- 9.1/16.4 MB 1.6 MB/s eta 0:00:05\n",
      "   ---------------------- ----------------- 9.3/16.4 MB 1.6 MB/s eta 0:00:05\n",
      "   ---------------------- ----------------- 9.3/16.4 MB 1.6 MB/s eta 0:00:05\n",
      "   ---------------------- ----------------- 9.4/16.4 MB 1.6 MB/s eta 0:00:05\n",
      "   ----------------------- ---------------- 9.5/16.4 MB 1.6 MB/s eta 0:00:05\n",
      "   ----------------------- ---------------- 9.5/16.4 MB 1.7 MB/s eta 0:00:05\n",
      "   ----------------------- ---------------- 9.6/16.4 MB 1.6 MB/s eta 0:00:05\n",
      "   ----------------------- ---------------- 9.7/16.4 MB 1.6 MB/s eta 0:00:05\n",
      "   ----------------------- ---------------- 9.8/16.4 MB 1.7 MB/s eta 0:00:05\n",
      "   ----------------------- ---------------- 9.8/16.4 MB 1.7 MB/s eta 0:00:05\n",
      "   ------------------------ --------------- 9.9/16.4 MB 1.6 MB/s eta 0:00:04\n",
      "   ------------------------ --------------- 10.0/16.4 MB 1.6 MB/s eta 0:00:04\n",
      "   ------------------------ --------------- 10.0/16.4 MB 1.6 MB/s eta 0:00:04\n",
      "   ------------------------ --------------- 10.1/16.4 MB 1.6 MB/s eta 0:00:04\n",
      "   ------------------------ --------------- 10.2/16.4 MB 1.6 MB/s eta 0:00:04\n",
      "   ------------------------- -------------- 10.3/16.4 MB 1.7 MB/s eta 0:00:04\n",
      "   ------------------------- -------------- 10.3/16.4 MB 1.7 MB/s eta 0:00:04\n",
      "   ------------------------- -------------- 10.3/16.4 MB 1.7 MB/s eta 0:00:04\n",
      "   ------------------------- -------------- 10.5/16.4 MB 1.7 MB/s eta 0:00:04\n",
      "   ------------------------- -------------- 10.5/16.4 MB 1.7 MB/s eta 0:00:04\n",
      "   ------------------------- -------------- 10.6/16.4 MB 1.7 MB/s eta 0:00:04\n",
      "   ------------------------- -------------- 10.7/16.4 MB 1.7 MB/s eta 0:00:04\n",
      "   -------------------------- ------------- 10.8/16.4 MB 1.7 MB/s eta 0:00:04\n",
      "   -------------------------- ------------- 10.8/16.4 MB 1.7 MB/s eta 0:00:04\n",
      "   -------------------------- ------------- 10.9/16.4 MB 1.7 MB/s eta 0:00:04\n",
      "   -------------------------- ------------- 11.0/16.4 MB 1.7 MB/s eta 0:00:04\n",
      "   --------------------------- ------------ 11.1/16.4 MB 1.7 MB/s eta 0:00:04\n",
      "   --------------------------- ------------ 11.2/16.4 MB 1.7 MB/s eta 0:00:04\n",
      "   --------------------------- ------------ 11.3/16.4 MB 1.7 MB/s eta 0:00:03\n",
      "   --------------------------- ------------ 11.4/16.4 MB 1.7 MB/s eta 0:00:03\n",
      "   ---------------------------- ----------- 11.5/16.4 MB 1.7 MB/s eta 0:00:03\n",
      "   ---------------------------- ----------- 11.6/16.4 MB 1.7 MB/s eta 0:00:03\n",
      "   ---------------------------- ----------- 11.6/16.4 MB 1.7 MB/s eta 0:00:03\n",
      "   ---------------------------- ----------- 11.7/16.4 MB 1.7 MB/s eta 0:00:03\n",
      "   ---------------------------- ----------- 11.8/16.4 MB 1.7 MB/s eta 0:00:03\n",
      "   ----------------------------- ---------- 12.0/16.4 MB 1.8 MB/s eta 0:00:03\n",
      "   ----------------------------- ---------- 12.0/16.4 MB 1.8 MB/s eta 0:00:03\n",
      "   ----------------------------- ---------- 12.1/16.4 MB 1.7 MB/s eta 0:00:03\n",
      "   ----------------------------- ---------- 12.1/16.4 MB 1.7 MB/s eta 0:00:03\n",
      "   ----------------------------- ---------- 12.2/16.4 MB 1.8 MB/s eta 0:00:03\n",
      "   ----------------------------- ---------- 12.3/16.4 MB 1.8 MB/s eta 0:00:03\n",
      "   ------------------------------ --------- 12.4/16.4 MB 1.8 MB/s eta 0:00:03\n",
      "   ------------------------------ --------- 12.5/16.4 MB 1.8 MB/s eta 0:00:03\n",
      "   ------------------------------ --------- 12.5/16.4 MB 1.8 MB/s eta 0:00:03\n",
      "   ------------------------------ --------- 12.6/16.4 MB 1.8 MB/s eta 0:00:03\n",
      "   ------------------------------- -------- 12.7/16.4 MB 1.8 MB/s eta 0:00:03\n",
      "   ------------------------------- -------- 12.8/16.4 MB 1.8 MB/s eta 0:00:03\n",
      "   ------------------------------- -------- 12.9/16.4 MB 1.8 MB/s eta 0:00:02\n",
      "   ------------------------------- -------- 13.0/16.4 MB 1.8 MB/s eta 0:00:02\n",
      "   ------------------------------- -------- 13.1/16.4 MB 1.8 MB/s eta 0:00:02\n",
      "   ------------------------------- -------- 13.1/16.4 MB 1.8 MB/s eta 0:00:02\n",
      "   -------------------------------- ------- 13.3/16.4 MB 1.8 MB/s eta 0:00:02\n",
      "   -------------------------------- ------- 13.4/16.4 MB 1.8 MB/s eta 0:00:02\n",
      "   -------------------------------- ------- 13.5/16.4 MB 1.8 MB/s eta 0:00:02\n",
      "   -------------------------------- ------- 13.5/16.4 MB 1.8 MB/s eta 0:00:02\n",
      "   --------------------------------- ------ 13.6/16.4 MB 1.8 MB/s eta 0:00:02\n",
      "   --------------------------------- ------ 13.8/16.4 MB 1.8 MB/s eta 0:00:02\n",
      "   --------------------------------- ------ 13.8/16.4 MB 1.8 MB/s eta 0:00:02\n",
      "   --------------------------------- ------ 13.9/16.4 MB 1.8 MB/s eta 0:00:02\n",
      "   ---------------------------------- ----- 14.1/16.4 MB 1.8 MB/s eta 0:00:02\n",
      "   ---------------------------------- ----- 14.1/16.4 MB 1.8 MB/s eta 0:00:02\n",
      "   ---------------------------------- ----- 14.3/16.4 MB 1.8 MB/s eta 0:00:02\n",
      "   ---------------------------------- ----- 14.3/16.4 MB 1.8 MB/s eta 0:00:02\n",
      "   ----------------------------------- ---- 14.4/16.4 MB 1.8 MB/s eta 0:00:02\n",
      "   ----------------------------------- ---- 14.6/16.4 MB 1.8 MB/s eta 0:00:02\n",
      "   ----------------------------------- ---- 14.6/16.4 MB 1.8 MB/s eta 0:00:02\n",
      "   ----------------------------------- ---- 14.6/16.4 MB 1.8 MB/s eta 0:00:01\n",
      "   ----------------------------------- ---- 14.7/16.4 MB 1.8 MB/s eta 0:00:01\n",
      "   ----------------------------------- ---- 14.8/16.4 MB 1.8 MB/s eta 0:00:01\n",
      "   ------------------------------------ --- 14.8/16.4 MB 1.8 MB/s eta 0:00:01\n",
      "   ------------------------------------ --- 14.9/16.4 MB 1.8 MB/s eta 0:00:01\n",
      "   ------------------------------------ --- 15.0/16.4 MB 1.8 MB/s eta 0:00:01\n",
      "   ------------------------------------ --- 15.1/16.4 MB 1.8 MB/s eta 0:00:01\n",
      "   ------------------------------------- -- 15.2/16.4 MB 1.8 MB/s eta 0:00:01\n",
      "   ------------------------------------- -- 15.2/16.4 MB 1.8 MB/s eta 0:00:01\n",
      "   ------------------------------------- -- 15.3/16.4 MB 1.8 MB/s eta 0:00:01\n",
      "   ------------------------------------- -- 15.5/16.4 MB 1.8 MB/s eta 0:00:01\n",
      "   ------------------------------------- -- 15.5/16.4 MB 1.8 MB/s eta 0:00:01\n",
      "   ------------------------------------- -- 15.5/16.4 MB 1.8 MB/s eta 0:00:01\n",
      "   -------------------------------------- - 15.7/16.4 MB 1.8 MB/s eta 0:00:01\n",
      "   -------------------------------------- - 15.7/16.4 MB 1.8 MB/s eta 0:00:01\n",
      "   -------------------------------------- - 15.8/16.4 MB 1.8 MB/s eta 0:00:01\n",
      "   -------------------------------------- - 16.0/16.4 MB 1.8 MB/s eta 0:00:01\n",
      "   ---------------------------------------  16.1/16.4 MB 1.8 MB/s eta 0:00:01\n",
      "   ---------------------------------------  16.2/16.4 MB 1.8 MB/s eta 0:00:01\n",
      "   ---------------------------------------  16.3/16.4 MB 1.8 MB/s eta 0:00:01\n",
      "   ---------------------------------------  16.4/16.4 MB 1.8 MB/s eta 0:00:01\n",
      "   ---------------------------------------  16.4/16.4 MB 1.8 MB/s eta 0:00:01\n",
      "   ---------------------------------------- 16.4/16.4 MB 1.8 MB/s eta 0:00:00\n",
      "Downloading tenacity-8.3.0-py3-none-any.whl (25 kB)\n",
      "Installing collected packages: tenacity, plotly\n",
      "Successfully installed plotly-5.22.0 tenacity-8.3.0\n"
     ]
    }
   ],
   "source": [
    "pip install plotly"
   ]
  },
  {
   "cell_type": "markdown",
   "metadata": {},
   "source": [
    "                                 **importing important libraries **\n"
   ]
  },
  {
   "cell_type": "code",
   "execution_count": 65,
   "metadata": {},
   "outputs": [],
   "source": [
    "import pandas as pd\n",
    "import numpy as np\n",
    "import seaborn as sns\n",
    "import plotly.express as px\n",
    "import matplotlib.pyplot as plt\n",
    "import matplotlib as mpl\n",
    "from mpl_toolkits.mplot3d import Axes3D\n",
    "from sklearn.linear_model import LinearRegression\n",
    "from sklearn.tree import DecisionTreeRegressor\n",
    "from sklearn.ensemble import RandomForestRegressor\n",
    "from sklearn.preprocessing import StandardScaler,QuantileTransformer\n",
    "from sklearn.model_selection import train_test_split\n",
    "from sklearn.metrics import mean_squared_error, r2_score\n",
    "\n",
    "\n",
    "%matplotlib inline"
   ]
  },
  {
   "cell_type": "markdown",
   "metadata": {},
   "source": [
    "                             Train the data"
   ]
  },
  {
   "cell_type": "code",
   "execution_count": 2,
   "metadata": {},
   "outputs": [],
   "source": [
    "traindf = pd.read_csv('train.csv')"
   ]
  },
  {
   "cell_type": "code",
   "execution_count": 3,
   "metadata": {},
   "outputs": [
    {
     "data": {
      "text/plain": [
       "Index(['Id', 'MSSubClass', 'MSZoning', 'LotFrontage', 'LotArea', 'Street',\n",
       "       'Alley', 'LotShape', 'LandContour', 'Utilities', 'LotConfig',\n",
       "       'LandSlope', 'Neighborhood', 'Condition1', 'Condition2', 'BldgType',\n",
       "       'HouseStyle', 'OverallQual', 'OverallCond', 'YearBuilt', 'YearRemodAdd',\n",
       "       'RoofStyle', 'RoofMatl', 'Exterior1st', 'Exterior2nd', 'MasVnrType',\n",
       "       'MasVnrArea', 'ExterQual', 'ExterCond', 'Foundation', 'BsmtQual',\n",
       "       'BsmtCond', 'BsmtExposure', 'BsmtFinType1', 'BsmtFinSF1',\n",
       "       'BsmtFinType2', 'BsmtFinSF2', 'BsmtUnfSF', 'TotalBsmtSF', 'Heating',\n",
       "       'HeatingQC', 'CentralAir', 'Electrical', '1stFlrSF', '2ndFlrSF',\n",
       "       'LowQualFinSF', 'GrLivArea', 'BsmtFullBath', 'BsmtHalfBath', 'FullBath',\n",
       "       'HalfBath', 'BedroomAbvGr', 'KitchenAbvGr', 'KitchenQual',\n",
       "       'TotRmsAbvGrd', 'Functional', 'Fireplaces', 'FireplaceQu', 'GarageType',\n",
       "       'GarageYrBlt', 'GarageFinish', 'GarageCars', 'GarageArea', 'GarageQual',\n",
       "       'GarageCond', 'PavedDrive', 'WoodDeckSF', 'OpenPorchSF',\n",
       "       'EnclosedPorch', '3SsnPorch', 'ScreenPorch', 'PoolArea', 'PoolQC',\n",
       "       'Fence', 'MiscFeature', 'MiscVal', 'MoSold', 'YrSold', 'SaleType',\n",
       "       'SaleCondition', 'SalePrice'],\n",
       "      dtype='object')"
      ]
     },
     "execution_count": 3,
     "metadata": {},
     "output_type": "execute_result"
    }
   ],
   "source": [
    "traindf.columns"
   ]
  },
  {
   "cell_type": "code",
   "execution_count": 4,
   "metadata": {},
   "outputs": [
    {
     "data": {
      "text/plain": [
       "SalePrice        1.000000\n",
       "OverallQual      0.790982\n",
       "GrLivArea        0.708624\n",
       "GarageCars       0.640409\n",
       "GarageArea       0.623431\n",
       "TotalBsmtSF      0.613581\n",
       "1stFlrSF         0.605852\n",
       "FullBath         0.560664\n",
       "TotRmsAbvGrd     0.533723\n",
       "YearBuilt        0.522897\n",
       "YearRemodAdd     0.507101\n",
       "GarageYrBlt      0.486362\n",
       "MasVnrArea       0.477493\n",
       "Fireplaces       0.466929\n",
       "BsmtFinSF1       0.386420\n",
       "LotFrontage      0.351799\n",
       "WoodDeckSF       0.324413\n",
       "2ndFlrSF         0.319334\n",
       "OpenPorchSF      0.315856\n",
       "HalfBath         0.284108\n",
       "LotArea          0.263843\n",
       "BsmtFullBath     0.227122\n",
       "BsmtUnfSF        0.214479\n",
       "BedroomAbvGr     0.168213\n",
       "ScreenPorch      0.111447\n",
       "PoolArea         0.092404\n",
       "MoSold           0.046432\n",
       "3SsnPorch        0.044584\n",
       "BsmtFinSF2      -0.011378\n",
       "BsmtHalfBath    -0.016844\n",
       "MiscVal         -0.021190\n",
       "Id              -0.021917\n",
       "LowQualFinSF    -0.025606\n",
       "YrSold          -0.028923\n",
       "OverallCond     -0.077856\n",
       "MSSubClass      -0.084284\n",
       "EnclosedPorch   -0.128578\n",
       "KitchenAbvGr    -0.135907\n",
       "Name: SalePrice, dtype: float64"
      ]
     },
     "execution_count": 4,
     "metadata": {},
     "output_type": "execute_result"
    }
   ],
   "source": [
    "numeric_df = traindf.select_dtypes(include='number')\n",
    "correlation_matrix = numeric_df.corr()\n",
    "correlation_matrix['SalePrice'].sort_values(ascending = False)"
   ]
  },
  {
   "cell_type": "code",
   "execution_count": 5,
   "metadata": {},
   "outputs": [],
   "source": [
    "req_tr = [\"GarageArea\",\"OverallQual\",\"TotalBsmtSF\",\"1stFlrSF\",\"2ndFlrSF\",\"LowQualFinSF\",\"GrLivArea\",\"BsmtFullBath\",\"BsmtHalfBath\",\"FullBath\",\"HalfBath\",\"TotRmsAbvGrd\",\"SalePrice\"]"
   ]
  },
  {
   "cell_type": "code",
   "execution_count": 6,
   "metadata": {},
   "outputs": [],
   "source": [
    "selected_tr = traindf[req_tr]"
   ]
  },
  {
   "cell_type": "code",
   "execution_count": 7,
   "metadata": {},
   "outputs": [
    {
     "name": "stderr",
     "output_type": "stream",
     "text": [
      "C:\\Users\\hp\\AppData\\Local\\Temp\\ipykernel_7696\\341052813.py:1: SettingWithCopyWarning: \n",
      "A value is trying to be set on a copy of a slice from a DataFrame.\n",
      "Try using .loc[row_indexer,col_indexer] = value instead\n",
      "\n",
      "See the caveats in the documentation: https://pandas.pydata.org/pandas-docs/stable/user_guide/indexing.html#returning-a-view-versus-a-copy\n",
      "  selected_tr.loc[:, 'TotalBath'] = (selected_tr['BsmtFullBath'].fillna(0) +\n",
      "C:\\Users\\hp\\AppData\\Local\\Temp\\ipykernel_7696\\341052813.py:6: SettingWithCopyWarning: \n",
      "A value is trying to be set on a copy of a slice from a DataFrame.\n",
      "Try using .loc[row_indexer,col_indexer] = value instead\n",
      "\n",
      "See the caveats in the documentation: https://pandas.pydata.org/pandas-docs/stable/user_guide/indexing.html#returning-a-view-versus-a-copy\n",
      "  selected_tr.loc[:, 'TotalSF'] = (selected_tr['TotalBsmtSF'].fillna(0) +\n"
     ]
    }
   ],
   "source": [
    "selected_tr.loc[:, 'TotalBath'] = (selected_tr['BsmtFullBath'].fillna(0) + \n",
    "                                    selected_tr['BsmtHalfBath'].fillna(0) + \n",
    "                                    selected_tr['FullBath'].fillna(0) + \n",
    "                                    selected_tr['HalfBath'].fillna(0))\n",
    "\n",
    "selected_tr.loc[:, 'TotalSF'] = (selected_tr['TotalBsmtSF'].fillna(0) + \n",
    "                                  selected_tr['1stFlrSF'].fillna(0) + \n",
    "                                  selected_tr['2ndFlrSF'].fillna(0) + \n",
    "                                  selected_tr['LowQualFinSF'].fillna(0) + \n",
    "                                  selected_tr['GrLivArea'].fillna(0))"
   ]
  },
  {
   "cell_type": "code",
   "execution_count": 8,
   "metadata": {},
   "outputs": [
    {
     "data": {
      "text/html": [
       "<div>\n",
       "<style scoped>\n",
       "    .dataframe tbody tr th:only-of-type {\n",
       "        vertical-align: middle;\n",
       "    }\n",
       "\n",
       "    .dataframe tbody tr th {\n",
       "        vertical-align: top;\n",
       "    }\n",
       "\n",
       "    .dataframe thead th {\n",
       "        text-align: right;\n",
       "    }\n",
       "</style>\n",
       "<table border=\"1\" class=\"dataframe\">\n",
       "  <thead>\n",
       "    <tr style=\"text-align: right;\">\n",
       "      <th></th>\n",
       "      <th>GarageArea</th>\n",
       "      <th>OverallQual</th>\n",
       "      <th>TotalBsmtSF</th>\n",
       "      <th>1stFlrSF</th>\n",
       "      <th>2ndFlrSF</th>\n",
       "      <th>LowQualFinSF</th>\n",
       "      <th>GrLivArea</th>\n",
       "      <th>BsmtFullBath</th>\n",
       "      <th>BsmtHalfBath</th>\n",
       "      <th>FullBath</th>\n",
       "      <th>HalfBath</th>\n",
       "      <th>TotRmsAbvGrd</th>\n",
       "      <th>SalePrice</th>\n",
       "      <th>TotalBath</th>\n",
       "      <th>TotalSF</th>\n",
       "    </tr>\n",
       "  </thead>\n",
       "  <tbody>\n",
       "    <tr>\n",
       "      <th>0</th>\n",
       "      <td>548</td>\n",
       "      <td>7</td>\n",
       "      <td>856</td>\n",
       "      <td>856</td>\n",
       "      <td>854</td>\n",
       "      <td>0</td>\n",
       "      <td>1710</td>\n",
       "      <td>1</td>\n",
       "      <td>0</td>\n",
       "      <td>2</td>\n",
       "      <td>1</td>\n",
       "      <td>8</td>\n",
       "      <td>208500</td>\n",
       "      <td>4</td>\n",
       "      <td>4276</td>\n",
       "    </tr>\n",
       "    <tr>\n",
       "      <th>1</th>\n",
       "      <td>460</td>\n",
       "      <td>6</td>\n",
       "      <td>1262</td>\n",
       "      <td>1262</td>\n",
       "      <td>0</td>\n",
       "      <td>0</td>\n",
       "      <td>1262</td>\n",
       "      <td>0</td>\n",
       "      <td>1</td>\n",
       "      <td>2</td>\n",
       "      <td>0</td>\n",
       "      <td>6</td>\n",
       "      <td>181500</td>\n",
       "      <td>3</td>\n",
       "      <td>3786</td>\n",
       "    </tr>\n",
       "    <tr>\n",
       "      <th>2</th>\n",
       "      <td>608</td>\n",
       "      <td>7</td>\n",
       "      <td>920</td>\n",
       "      <td>920</td>\n",
       "      <td>866</td>\n",
       "      <td>0</td>\n",
       "      <td>1786</td>\n",
       "      <td>1</td>\n",
       "      <td>0</td>\n",
       "      <td>2</td>\n",
       "      <td>1</td>\n",
       "      <td>6</td>\n",
       "      <td>223500</td>\n",
       "      <td>4</td>\n",
       "      <td>4492</td>\n",
       "    </tr>\n",
       "    <tr>\n",
       "      <th>3</th>\n",
       "      <td>642</td>\n",
       "      <td>7</td>\n",
       "      <td>756</td>\n",
       "      <td>961</td>\n",
       "      <td>756</td>\n",
       "      <td>0</td>\n",
       "      <td>1717</td>\n",
       "      <td>1</td>\n",
       "      <td>0</td>\n",
       "      <td>1</td>\n",
       "      <td>0</td>\n",
       "      <td>7</td>\n",
       "      <td>140000</td>\n",
       "      <td>2</td>\n",
       "      <td>4190</td>\n",
       "    </tr>\n",
       "    <tr>\n",
       "      <th>4</th>\n",
       "      <td>836</td>\n",
       "      <td>8</td>\n",
       "      <td>1145</td>\n",
       "      <td>1145</td>\n",
       "      <td>1053</td>\n",
       "      <td>0</td>\n",
       "      <td>2198</td>\n",
       "      <td>1</td>\n",
       "      <td>0</td>\n",
       "      <td>2</td>\n",
       "      <td>1</td>\n",
       "      <td>9</td>\n",
       "      <td>250000</td>\n",
       "      <td>4</td>\n",
       "      <td>5541</td>\n",
       "    </tr>\n",
       "    <tr>\n",
       "      <th>...</th>\n",
       "      <td>...</td>\n",
       "      <td>...</td>\n",
       "      <td>...</td>\n",
       "      <td>...</td>\n",
       "      <td>...</td>\n",
       "      <td>...</td>\n",
       "      <td>...</td>\n",
       "      <td>...</td>\n",
       "      <td>...</td>\n",
       "      <td>...</td>\n",
       "      <td>...</td>\n",
       "      <td>...</td>\n",
       "      <td>...</td>\n",
       "      <td>...</td>\n",
       "      <td>...</td>\n",
       "    </tr>\n",
       "    <tr>\n",
       "      <th>1455</th>\n",
       "      <td>460</td>\n",
       "      <td>6</td>\n",
       "      <td>953</td>\n",
       "      <td>953</td>\n",
       "      <td>694</td>\n",
       "      <td>0</td>\n",
       "      <td>1647</td>\n",
       "      <td>0</td>\n",
       "      <td>0</td>\n",
       "      <td>2</td>\n",
       "      <td>1</td>\n",
       "      <td>7</td>\n",
       "      <td>175000</td>\n",
       "      <td>3</td>\n",
       "      <td>4247</td>\n",
       "    </tr>\n",
       "    <tr>\n",
       "      <th>1456</th>\n",
       "      <td>500</td>\n",
       "      <td>6</td>\n",
       "      <td>1542</td>\n",
       "      <td>2073</td>\n",
       "      <td>0</td>\n",
       "      <td>0</td>\n",
       "      <td>2073</td>\n",
       "      <td>1</td>\n",
       "      <td>0</td>\n",
       "      <td>2</td>\n",
       "      <td>0</td>\n",
       "      <td>7</td>\n",
       "      <td>210000</td>\n",
       "      <td>3</td>\n",
       "      <td>5688</td>\n",
       "    </tr>\n",
       "    <tr>\n",
       "      <th>1457</th>\n",
       "      <td>252</td>\n",
       "      <td>7</td>\n",
       "      <td>1152</td>\n",
       "      <td>1188</td>\n",
       "      <td>1152</td>\n",
       "      <td>0</td>\n",
       "      <td>2340</td>\n",
       "      <td>0</td>\n",
       "      <td>0</td>\n",
       "      <td>2</td>\n",
       "      <td>0</td>\n",
       "      <td>9</td>\n",
       "      <td>266500</td>\n",
       "      <td>2</td>\n",
       "      <td>5832</td>\n",
       "    </tr>\n",
       "    <tr>\n",
       "      <th>1458</th>\n",
       "      <td>240</td>\n",
       "      <td>5</td>\n",
       "      <td>1078</td>\n",
       "      <td>1078</td>\n",
       "      <td>0</td>\n",
       "      <td>0</td>\n",
       "      <td>1078</td>\n",
       "      <td>1</td>\n",
       "      <td>0</td>\n",
       "      <td>1</td>\n",
       "      <td>0</td>\n",
       "      <td>5</td>\n",
       "      <td>142125</td>\n",
       "      <td>2</td>\n",
       "      <td>3234</td>\n",
       "    </tr>\n",
       "    <tr>\n",
       "      <th>1459</th>\n",
       "      <td>276</td>\n",
       "      <td>5</td>\n",
       "      <td>1256</td>\n",
       "      <td>1256</td>\n",
       "      <td>0</td>\n",
       "      <td>0</td>\n",
       "      <td>1256</td>\n",
       "      <td>1</td>\n",
       "      <td>0</td>\n",
       "      <td>1</td>\n",
       "      <td>1</td>\n",
       "      <td>6</td>\n",
       "      <td>147500</td>\n",
       "      <td>3</td>\n",
       "      <td>3768</td>\n",
       "    </tr>\n",
       "  </tbody>\n",
       "</table>\n",
       "<p>1460 rows × 15 columns</p>\n",
       "</div>"
      ],
      "text/plain": [
       "      GarageArea  OverallQual  TotalBsmtSF  1stFlrSF  2ndFlrSF  LowQualFinSF   \n",
       "0            548            7          856       856       854             0  \\\n",
       "1            460            6         1262      1262         0             0   \n",
       "2            608            7          920       920       866             0   \n",
       "3            642            7          756       961       756             0   \n",
       "4            836            8         1145      1145      1053             0   \n",
       "...          ...          ...          ...       ...       ...           ...   \n",
       "1455         460            6          953       953       694             0   \n",
       "1456         500            6         1542      2073         0             0   \n",
       "1457         252            7         1152      1188      1152             0   \n",
       "1458         240            5         1078      1078         0             0   \n",
       "1459         276            5         1256      1256         0             0   \n",
       "\n",
       "      GrLivArea  BsmtFullBath  BsmtHalfBath  FullBath  HalfBath  TotRmsAbvGrd   \n",
       "0          1710             1             0         2         1             8  \\\n",
       "1          1262             0             1         2         0             6   \n",
       "2          1786             1             0         2         1             6   \n",
       "3          1717             1             0         1         0             7   \n",
       "4          2198             1             0         2         1             9   \n",
       "...         ...           ...           ...       ...       ...           ...   \n",
       "1455       1647             0             0         2         1             7   \n",
       "1456       2073             1             0         2         0             7   \n",
       "1457       2340             0             0         2         0             9   \n",
       "1458       1078             1             0         1         0             5   \n",
       "1459       1256             1             0         1         1             6   \n",
       "\n",
       "      SalePrice  TotalBath  TotalSF  \n",
       "0        208500          4     4276  \n",
       "1        181500          3     3786  \n",
       "2        223500          4     4492  \n",
       "3        140000          2     4190  \n",
       "4        250000          4     5541  \n",
       "...         ...        ...      ...  \n",
       "1455     175000          3     4247  \n",
       "1456     210000          3     5688  \n",
       "1457     266500          2     5832  \n",
       "1458     142125          2     3234  \n",
       "1459     147500          3     3768  \n",
       "\n",
       "[1460 rows x 15 columns]"
      ]
     },
     "execution_count": 8,
     "metadata": {},
     "output_type": "execute_result"
    }
   ],
   "source": [
    "selected_tr"
   ]
  },
  {
   "cell_type": "markdown",
   "metadata": {},
   "source": [
    "                   Keeping only the important columns"
   ]
  },
  {
   "cell_type": "code",
   "execution_count": 9,
   "metadata": {},
   "outputs": [],
   "source": [
    "train_df = selected_tr[['TotRmsAbvGrd','TotalBath','GarageArea','TotalSF','OverallQual','SalePrice']]"
   ]
  },
  {
   "cell_type": "code",
   "execution_count": 10,
   "metadata": {},
   "outputs": [
    {
     "data": {
      "text/html": [
       "<div>\n",
       "<style scoped>\n",
       "    .dataframe tbody tr th:only-of-type {\n",
       "        vertical-align: middle;\n",
       "    }\n",
       "\n",
       "    .dataframe tbody tr th {\n",
       "        vertical-align: top;\n",
       "    }\n",
       "\n",
       "    .dataframe thead th {\n",
       "        text-align: right;\n",
       "    }\n",
       "</style>\n",
       "<table border=\"1\" class=\"dataframe\">\n",
       "  <thead>\n",
       "    <tr style=\"text-align: right;\">\n",
       "      <th></th>\n",
       "      <th>TotRmsAbvGrd</th>\n",
       "      <th>TotalBath</th>\n",
       "      <th>GarageArea</th>\n",
       "      <th>TotalSF</th>\n",
       "      <th>OverallQual</th>\n",
       "      <th>SalePrice</th>\n",
       "    </tr>\n",
       "  </thead>\n",
       "  <tbody>\n",
       "    <tr>\n",
       "      <th>0</th>\n",
       "      <td>8</td>\n",
       "      <td>4</td>\n",
       "      <td>548</td>\n",
       "      <td>4276</td>\n",
       "      <td>7</td>\n",
       "      <td>208500</td>\n",
       "    </tr>\n",
       "    <tr>\n",
       "      <th>1</th>\n",
       "      <td>6</td>\n",
       "      <td>3</td>\n",
       "      <td>460</td>\n",
       "      <td>3786</td>\n",
       "      <td>6</td>\n",
       "      <td>181500</td>\n",
       "    </tr>\n",
       "    <tr>\n",
       "      <th>2</th>\n",
       "      <td>6</td>\n",
       "      <td>4</td>\n",
       "      <td>608</td>\n",
       "      <td>4492</td>\n",
       "      <td>7</td>\n",
       "      <td>223500</td>\n",
       "    </tr>\n",
       "    <tr>\n",
       "      <th>3</th>\n",
       "      <td>7</td>\n",
       "      <td>2</td>\n",
       "      <td>642</td>\n",
       "      <td>4190</td>\n",
       "      <td>7</td>\n",
       "      <td>140000</td>\n",
       "    </tr>\n",
       "    <tr>\n",
       "      <th>4</th>\n",
       "      <td>9</td>\n",
       "      <td>4</td>\n",
       "      <td>836</td>\n",
       "      <td>5541</td>\n",
       "      <td>8</td>\n",
       "      <td>250000</td>\n",
       "    </tr>\n",
       "    <tr>\n",
       "      <th>...</th>\n",
       "      <td>...</td>\n",
       "      <td>...</td>\n",
       "      <td>...</td>\n",
       "      <td>...</td>\n",
       "      <td>...</td>\n",
       "      <td>...</td>\n",
       "    </tr>\n",
       "    <tr>\n",
       "      <th>1455</th>\n",
       "      <td>7</td>\n",
       "      <td>3</td>\n",
       "      <td>460</td>\n",
       "      <td>4247</td>\n",
       "      <td>6</td>\n",
       "      <td>175000</td>\n",
       "    </tr>\n",
       "    <tr>\n",
       "      <th>1456</th>\n",
       "      <td>7</td>\n",
       "      <td>3</td>\n",
       "      <td>500</td>\n",
       "      <td>5688</td>\n",
       "      <td>6</td>\n",
       "      <td>210000</td>\n",
       "    </tr>\n",
       "    <tr>\n",
       "      <th>1457</th>\n",
       "      <td>9</td>\n",
       "      <td>2</td>\n",
       "      <td>252</td>\n",
       "      <td>5832</td>\n",
       "      <td>7</td>\n",
       "      <td>266500</td>\n",
       "    </tr>\n",
       "    <tr>\n",
       "      <th>1458</th>\n",
       "      <td>5</td>\n",
       "      <td>2</td>\n",
       "      <td>240</td>\n",
       "      <td>3234</td>\n",
       "      <td>5</td>\n",
       "      <td>142125</td>\n",
       "    </tr>\n",
       "    <tr>\n",
       "      <th>1459</th>\n",
       "      <td>6</td>\n",
       "      <td>3</td>\n",
       "      <td>276</td>\n",
       "      <td>3768</td>\n",
       "      <td>5</td>\n",
       "      <td>147500</td>\n",
       "    </tr>\n",
       "  </tbody>\n",
       "</table>\n",
       "<p>1460 rows × 6 columns</p>\n",
       "</div>"
      ],
      "text/plain": [
       "      TotRmsAbvGrd  TotalBath  GarageArea  TotalSF  OverallQual  SalePrice\n",
       "0                8          4         548     4276            7     208500\n",
       "1                6          3         460     3786            6     181500\n",
       "2                6          4         608     4492            7     223500\n",
       "3                7          2         642     4190            7     140000\n",
       "4                9          4         836     5541            8     250000\n",
       "...            ...        ...         ...      ...          ...        ...\n",
       "1455             7          3         460     4247            6     175000\n",
       "1456             7          3         500     5688            6     210000\n",
       "1457             9          2         252     5832            7     266500\n",
       "1458             5          2         240     3234            5     142125\n",
       "1459             6          3         276     3768            5     147500\n",
       "\n",
       "[1460 rows x 6 columns]"
      ]
     },
     "execution_count": 10,
     "metadata": {},
     "output_type": "execute_result"
    }
   ],
   "source": [
    "train_df"
   ]
  },
  {
   "cell_type": "markdown",
   "metadata": {},
   "source": [
    "                  Splitting the dataset and Creating Pipeline"
   ]
  },
  {
   "cell_type": "code",
   "execution_count": 11,
   "metadata": {},
   "outputs": [
    {
     "name": "stdout",
     "output_type": "stream",
     "text": [
      "Rows in train set: 1168\n",
      "Rows in test set:292\n",
      "\n"
     ]
    }
   ],
   "source": [
    "from sklearn.model_selection import train_test_split\n",
    "train_set,test_set =train_test_split(train_df,test_size = 0.2,random_state = 42)\n",
    "print(f\"Rows in train set: {len(train_set)}\\nRows in test set:{len(test_set)}\\n\")"
   ]
  },
  {
   "cell_type": "code",
   "execution_count": 12,
   "metadata": {},
   "outputs": [],
   "source": [
    "housing = train_set.drop(\"SalePrice\",axis=1)\n",
    "housing_labels = train_set[\"SalePrice\"].copy()"
   ]
  },
  {
   "cell_type": "code",
   "execution_count": 13,
   "metadata": {},
   "outputs": [],
   "source": [
    "from sklearn.impute import SimpleImputer\n",
    "from sklearn.pipeline import Pipeline\n",
    "from sklearn.preprocessing import StandardScaler\n",
    "my_pipeline = Pipeline([\n",
    "    ('imputer',SimpleImputer(strategy=\"median\")),\n",
    "    ('std_scaler',StandardScaler())\n",
    "])"
   ]
  },
  {
   "cell_type": "code",
   "execution_count": 14,
   "metadata": {},
   "outputs": [],
   "source": [
    "X_train = my_pipeline.fit_transform(housing)"
   ]
  },
  {
   "cell_type": "code",
   "execution_count": 15,
   "metadata": {},
   "outputs": [
    {
     "data": {
      "text/plain": [
       "array([[-0.96456591, -0.48377079, -0.86383727, -0.13352109, -0.82044456],\n",
       "       [ 0.27075534,  0.61127627, -0.45626397, -0.13428593, -0.08893368],\n",
       "       [-1.58222654, -1.57881784, -2.25716927, -1.32207838, -0.82044456],\n",
       "       ...,\n",
       "       [-0.96456591, -0.48377079,  0.45366713, -1.16605156, -0.82044456],\n",
       "       [ 0.27075534, -0.48377079, -1.23349678, -0.26966215,  0.64257719],\n",
       "       [ 0.27075534, -0.48377079,  0.87071888,  0.28025593,  0.64257719]])"
      ]
     },
     "execution_count": 15,
     "metadata": {},
     "output_type": "execute_result"
    }
   ],
   "source": [
    "X_train"
   ]
  },
  {
   "cell_type": "code",
   "execution_count": 16,
   "metadata": {},
   "outputs": [],
   "source": [
    "Y_train = housing_labels"
   ]
  },
  {
   "cell_type": "code",
   "execution_count": 17,
   "metadata": {},
   "outputs": [
    {
     "data": {
      "text/plain": [
       "(1168,)"
      ]
     },
     "execution_count": 17,
     "metadata": {},
     "output_type": "execute_result"
    }
   ],
   "source": [
    "Y_train.shape"
   ]
  },
  {
   "cell_type": "markdown",
   "metadata": {},
   "source": [
    "                                            Correlations"
   ]
  },
  {
   "cell_type": "code",
   "execution_count": 67,
   "metadata": {},
   "outputs": [
    {
     "data": {
      "image/png": "[encoded data removed]",
      "text/plain": [
       "<Figure size 1200x1200 with 36 Axes>"
      ]
     },
     "metadata": {},
     "output_type": "display_data"
    }
   ],
   "source": [
    "import pandas as pd\n",
    "import matplotlib.pyplot as plt\n",
    "from pandas.plotting import scatter_matrix\n",
    "\n",
    "# Create the scatter matrix\n",
    "scatter_matrix(train_df, alpha=0.2, figsize=(12, 12), diagonal='kde')\n",
    "\n",
    "# Adjust layout for better appearance\n",
    "plt.tight_layout()\n",
    "plt.show()\n"
   ]
  },
  {
   "cell_type": "code",
   "execution_count": 19,
   "metadata": {},
   "outputs": [
    {
     "data": {
      "text/plain": [
       "SalePrice       1.000000\n",
       "OverallQual     0.790982\n",
       "TotalSF         0.773909\n",
       "GarageArea      0.623431\n",
       "TotalBath       0.613005\n",
       "TotRmsAbvGrd    0.533723\n",
       "Name: SalePrice, dtype: float64"
      ]
     },
     "execution_count": 19,
     "metadata": {},
     "output_type": "execute_result"
    }
   ],
   "source": [
    "corr_matrix = train_df.corr()\n",
    "corr_matrix['SalePrice'].sort_values(ascending = False)"
   ]
  },
  {
   "cell_type": "code",
   "execution_count": 66,
   "metadata": {},
   "outputs": [
    {
     "data": {
      "application/vnd.plotly.v1+json": {
       "config": {
        "plotlyServerURL": "https://plot.ly"
       },
       "data": [
        {
         "coloraxis": "coloraxis",
         "hovertemplate": "x: %{x}<br>y: %{y}<br>color: %{z}<extra></extra>",
         "name": "0",
         "texttemplate": "%{z}",
         "type": "heatmap",
         "x": [
          "TotRmsAbvGrd",
          "TotalBath",
          "GarageArea",
          "TotalSF",
          "OverallQual",
          "SalePrice"
         ],
         "xaxis": "x",
         "y": [
          "TotRmsAbvGrd",
          "TotalBath",
          "GarageArea",
          "TotalSF",
          "OverallQual",
          "SalePrice"
         ],
         "yaxis": "y",
         "z": [
          [
           1,
           0.48230991789790884,
           0.33782212063683786,
           0.7578205357771468,
           0.42745234327798964,
           0.5337231555820284
          ],
          [
           0.48230991789790884,
           1,
           0.425790708093893,
           0.6090189063782214,
           0.529906008002984,
           0.6130046086468912
          ],
          [
           0.33782212063683786,
           0.425790708093893,
           1,
           0.5391859705511238,
           0.5620217566126084,
           0.6234314389183622
          ],
          [
           0.7578205357771468,
           0.6090189063782214,
           0.5391859705511238,
           1,
           0.6557904093973201,
           0.7739094123771414
          ],
          [
           0.42745234327798964,
           0.529906008002984,
           0.5620217566126084,
           0.6557904093973201,
           1,
           0.7909816005838053
          ],
          [
           0.5337231555820284,
           0.6130046086468912,
           0.6234314389183622,
           0.7739094123771414,
           0.7909816005838053,
           1
          ]
         ]
        }
       ],
       "layout": {
        "coloraxis": {
         "cmax": 1,
         "cmin": -1,
         "colorscale": [
          [
           0,
           "rgb(5,48,97)"
          ],
          [
           0.1,
           "rgb(33,102,172)"
          ],
          [
           0.2,
           "rgb(67,147,195)"
          ],
          [
           0.3,
           "rgb(146,197,222)"
          ],
          [
           0.4,
           "rgb(209,229,240)"
          ],
          [
           0.5,
           "rgb(247,247,247)"
          ],
          [
           0.6,
           "rgb(253,219,199)"
          ],
          [
           0.7,
           "rgb(244,165,130)"
          ],
          [
           0.8,
           "rgb(214,96,77)"
          ],
          [
           0.9,
           "rgb(178,24,43)"
          ],
          [
           1,
           "rgb(103,0,31)"
          ]
         ]
        },
        "margin": {
         "t": 60
        },
        "template": {
         "data": {
          "bar": [
           {
            "error_x": {
             "color": "#2a3f5f"
            },
            "error_y": {
             "color": "#2a3f5f"
            },
            "marker": {
             "line": {
              "color": "#E5ECF6",
              "width": 0.5
             },
             "pattern": {
              "fillmode": "overlay",
              "size": 10,
              "solidity": 0.2
             }
            },
            "type": "bar"
           }
          ],
          "barpolar": [
           {
            "marker": {
             "line": {
              "color": "#E5ECF6",
              "width": 0.5
             },
             "pattern": {
              "fillmode": "overlay",
              "size": 10,
              "solidity": 0.2
             }
            },
            "type": "barpolar"
           }
          ],
          "carpet": [
           {
            "aaxis": {
             "endlinecolor": "#2a3f5f",
             "gridcolor": "white",
             "linecolor": "white",
             "minorgridcolor": "white",
             "startlinecolor": "#2a3f5f"
            },
            "baxis": {
             "endlinecolor": "#2a3f5f",
             "gridcolor": "white",
             "linecolor": "white",
             "minorgridcolor": "white",
             "startlinecolor": "#2a3f5f"
            },
            "type": "carpet"
           }
          ],
          "choropleth": [
           {
            "colorbar": {
             "outlinewidth": 0,
             "ticks": ""
            },
            "type": "choropleth"
           }
          ],
          "contour": [
           {
            "colorbar": {
             "outlinewidth": 0,
             "ticks": ""
            },
            "colorscale": [
             [
              0,
              "#0d0887"
             ],
             [
              0.1111111111111111,
              "#46039f"
             ],
             [
              0.2222222222222222,
              "#7201a8"
             ],
             [
              0.3333333333333333,
              "#9c179e"
             ],
             [
              0.4444444444444444,
              "#bd3786"
             ],
             [
              0.5555555555555556,
              "#d8576b"
             ],
             [
              0.6666666666666666,
              "#ed7953"
             ],
             [
              0.7777777777777778,
              "#fb9f3a"
             ],
             [
              0.8888888888888888,
              "#fdca26"
             ],
             [
              1,
              "#f0f921"
             ]
            ],
            "type": "contour"
           }
          ],
          "contourcarpet": [
           {
            "colorbar": {
             "outlinewidth": 0,
             "ticks": ""
            },
            "type": "contourcarpet"
           }
          ],
          "heatmap": [
           {
            "colorbar": {
             "outlinewidth": 0,
             "ticks": ""
            },
            "colorscale": [
             [
              0,
              "#0d0887"
             ],
             [
              0.1111111111111111,
              "#46039f"
             ],
             [
              0.2222222222222222,
              "#7201a8"
             ],
             [
              0.3333333333333333,
              "#9c179e"
             ],
             [
              0.4444444444444444,
              "#bd3786"
             ],
             [
              0.5555555555555556,
              "#d8576b"
             ],
             [
              0.6666666666666666,
              "#ed7953"
             ],
             [
              0.7777777777777778,
              "#fb9f3a"
             ],
             [
              0.8888888888888888,
              "#fdca26"
             ],
             [
              1,
              "#f0f921"
             ]
            ],
            "type": "heatmap"
           }
          ],
          "heatmapgl": [
           {
            "colorbar": {
             "outlinewidth": 0,
             "ticks": ""
            },
            "colorscale": [
             [
              0,
              "#0d0887"
             ],
             [
              0.1111111111111111,
              "#46039f"
             ],
             [
              0.2222222222222222,
              "#7201a8"
             ],
             [
              0.3333333333333333,
              "#9c179e"
             ],
             [
              0.4444444444444444,
              "#bd3786"
             ],
             [
              0.5555555555555556,
              "#d8576b"
             ],
             [
              0.6666666666666666,
              "#ed7953"
             ],
             [
              0.7777777777777778,
              "#fb9f3a"
             ],
             [
              0.8888888888888888,
              "#fdca26"
             ],
             [
              1,
              "#f0f921"
             ]
            ],
            "type": "heatmapgl"
           }
          ],
          "histogram": [
           {
            "marker": {
             "pattern": {
              "fillmode": "overlay",
              "size": 10,
              "solidity": 0.2
             }
            },
            "type": "histogram"
           }
          ],
          "histogram2d": [
           {
            "colorbar": {
             "outlinewidth": 0,
             "ticks": ""
            },
            "colorscale": [
             [
              0,
              "#0d0887"
             ],
             [
              0.1111111111111111,
              "#46039f"
             ],
             [
              0.2222222222222222,
              "#7201a8"
             ],
             [
              0.3333333333333333,
              "#9c179e"
             ],
             [
              0.4444444444444444,
              "#bd3786"
             ],
             [
              0.5555555555555556,
              "#d8576b"
             ],
             [
              0.6666666666666666,
              "#ed7953"
             ],
             [
              0.7777777777777778,
              "#fb9f3a"
             ],
             [
              0.8888888888888888,
              "#fdca26"
             ],
             [
              1,
              "#f0f921"
             ]
            ],
            "type": "histogram2d"
           }
          ],
          "histogram2dcontour": [
           {
            "colorbar": {
             "outlinewidth": 0,
             "ticks": ""
            },
            "colorscale": [
             [
              0,
              "#0d0887"
             ],
             [
              0.1111111111111111,
              "#46039f"
             ],
             [
              0.2222222222222222,
              "#7201a8"
             ],
             [
              0.3333333333333333,
              "#9c179e"
             ],
             [
              0.4444444444444444,
              "#bd3786"
             ],
             [
              0.5555555555555556,
              "#d8576b"
             ],
             [
              0.6666666666666666,
              "#ed7953"
             ],
             [
              0.7777777777777778,
              "#fb9f3a"
             ],
             [
              0.8888888888888888,
              "#fdca26"
             ],
             [
              1,
              "#f0f921"
             ]
            ],
            "type": "histogram2dcontour"
           }
          ],
          "mesh3d": [
           {
            "colorbar": {
             "outlinewidth": 0,
             "ticks": ""
            },
            "type": "mesh3d"
           }
          ],
          "parcoords": [
           {
            "line": {
             "colorbar": {
              "outlinewidth": 0,
              "ticks": ""
             }
            },
            "type": "parcoords"
           }
          ],
          "pie": [
           {
            "automargin": true,
            "type": "pie"
           }
          ],
          "scatter": [
           {
            "fillpattern": {
             "fillmode": "overlay",
             "size": 10,
             "solidity": 0.2
            },
            "type": "scatter"
           }
          ],
          "scatter3d": [
           {
            "line": {
             "colorbar": {
              "outlinewidth": 0,
              "ticks": ""
             }
            },
            "marker": {
             "colorbar": {
              "outlinewidth": 0,
              "ticks": ""
             }
            },
            "type": "scatter3d"
           }
          ],
          "scattercarpet": [
           {
            "marker": {
             "colorbar": {
              "outlinewidth": 0,
              "ticks": ""
             }
            },
            "type": "scattercarpet"
           }
          ],
          "scattergeo": [
           {
            "marker": {
             "colorbar": {
              "outlinewidth": 0,
              "ticks": ""
             }
            },
            "type": "scattergeo"
           }
          ],
          "scattergl": [
           {
            "marker": {
             "colorbar": {
              "outlinewidth": 0,
              "ticks": ""
             }
            },
            "type": "scattergl"
           }
          ],
          "scattermapbox": [
           {
            "marker": {
             "colorbar": {
              "outlinewidth": 0,
              "ticks": ""
             }
            },
            "type": "scattermapbox"
           }
          ],
          "scatterpolar": [
           {
            "marker": {
             "colorbar": {
              "outlinewidth": 0,
              "ticks": ""
             }
            },
            "type": "scatterpolar"
           }
          ],
          "scatterpolargl": [
           {
            "marker": {
             "colorbar": {
              "outlinewidth": 0,
              "ticks": ""
             }
            },
            "type": "scatterpolargl"
           }
          ],
          "scatterternary": [
           {
            "marker": {
             "colorbar": {
              "outlinewidth": 0,
              "ticks": ""
             }
            },
            "type": "scatterternary"
           }
          ],
          "surface": [
           {
            "colorbar": {
             "outlinewidth": 0,
             "ticks": ""
            },
            "colorscale": [
             [
              0,
              "#0d0887"
             ],
             [
              0.1111111111111111,
              "#46039f"
             ],
             [
              0.2222222222222222,
              "#7201a8"
             ],
             [
              0.3333333333333333,
              "#9c179e"
             ],
             [
              0.4444444444444444,
              "#bd3786"
             ],
             [
              0.5555555555555556,
              "#d8576b"
             ],
             [
              0.6666666666666666,
              "#ed7953"
             ],
             [
              0.7777777777777778,
              "#fb9f3a"
             ],
             [
              0.8888888888888888,
              "#fdca26"
             ],
             [
              1,
              "#f0f921"
             ]
            ],
            "type": "surface"
           }
          ],
          "table": [
           {
            "cells": {
             "fill": {
              "color": "#EBF0F8"
             },
             "line": {
              "color": "white"
             }
            },
            "header": {
             "fill": {
              "color": "#C8D4E3"
             },
             "line": {
              "color": "white"
             }
            },
            "type": "table"
           }
          ]
         },
         "layout": {
          "annotationdefaults": {
           "arrowcolor": "#2a3f5f",
           "arrowhead": 0,
           "arrowwidth": 1
          },
          "autotypenumbers": "strict",
          "coloraxis": {
           "colorbar": {
            "outlinewidth": 0,
            "ticks": ""
           }
          },
          "colorscale": {
           "diverging": [
            [
             0,
             "#8e0152"
            ],
            [
             0.1,
             "#c51b7d"
            ],
            [
             0.2,
             "#de77ae"
            ],
            [
             0.3,
             "#f1b6da"
            ],
            [
             0.4,
             "#fde0ef"
            ],
            [
             0.5,
             "#f7f7f7"
            ],
            [
             0.6,
             "#e6f5d0"
            ],
            [
             0.7,
             "#b8e186"
            ],
            [
             0.8,
             "#7fbc41"
            ],
            [
             0.9,
             "#4d9221"
            ],
            [
             1,
             "#276419"
            ]
           ],
           "sequential": [
            [
             0,
             "#0d0887"
            ],
            [
             0.1111111111111111,
             "#46039f"
            ],
            [
             0.2222222222222222,
             "#7201a8"
            ],
            [
             0.3333333333333333,
             "#9c179e"
            ],
            [
             0.4444444444444444,
             "#bd3786"
            ],
            [
             0.5555555555555556,
             "#d8576b"
            ],
            [
             0.6666666666666666,
             "#ed7953"
            ],
            [
             0.7777777777777778,
             "#fb9f3a"
            ],
            [
             0.8888888888888888,
             "#fdca26"
            ],
            [
             1,
             "#f0f921"
            ]
           ],
           "sequentialminus": [
            [
             0,
             "#0d0887"
            ],
            [
             0.1111111111111111,
             "#46039f"
            ],
            [
             0.2222222222222222,
             "#7201a8"
            ],
            [
             0.3333333333333333,
             "#9c179e"
            ],
            [
             0.4444444444444444,
             "#bd3786"
            ],
            [
             0.5555555555555556,
             "#d8576b"
            ],
            [
             0.6666666666666666,
             "#ed7953"
            ],
            [
             0.7777777777777778,
             "#fb9f3a"
            ],
            [
             0.8888888888888888,
             "#fdca26"
            ],
            [
             1,
             "#f0f921"
            ]
           ]
          },
          "colorway": [
           "#636efa",
           "#EF553B",
           "#00cc96",
           "#ab63fa",
           "#FFA15A",
           "#19d3f3",
           "#FF6692",
           "#B6E880",
           "#FF97FF",
           "#FECB52"
          ],
          "font": {
           "color": "#2a3f5f"
          },
          "geo": {
           "bgcolor": "white",
           "lakecolor": "white",
           "landcolor": "#E5ECF6",
           "showlakes": true,
           "showland": true,
           "subunitcolor": "white"
          },
          "hoverlabel": {
           "align": "left"
          },
          "hovermode": "closest",
          "mapbox": {
           "style": "light"
          },
          "paper_bgcolor": "white",
          "plot_bgcolor": "#E5ECF6",
          "polar": {
           "angularaxis": {
            "gridcolor": "white",
            "linecolor": "white",
            "ticks": ""
           },
           "bgcolor": "#E5ECF6",
           "radialaxis": {
            "gridcolor": "white",
            "linecolor": "white",
            "ticks": ""
           }
          },
          "scene": {
           "xaxis": {
            "backgroundcolor": "#E5ECF6",
            "gridcolor": "white",
            "gridwidth": 2,
            "linecolor": "white",
            "showbackground": true,
            "ticks": "",
            "zerolinecolor": "white"
           },
           "yaxis": {
            "backgroundcolor": "#E5ECF6",
            "gridcolor": "white",
            "gridwidth": 2,
            "linecolor": "white",
            "showbackground": true,
            "ticks": "",
            "zerolinecolor": "white"
           },
           "zaxis": {
            "backgroundcolor": "#E5ECF6",
            "gridcolor": "white",
            "gridwidth": 2,
            "linecolor": "white",
            "showbackground": true,
            "ticks": "",
            "zerolinecolor": "white"
           }
          },
          "shapedefaults": {
           "line": {
            "color": "#2a3f5f"
           }
          },
          "ternary": {
           "aaxis": {
            "gridcolor": "white",
            "linecolor": "white",
            "ticks": ""
           },
           "baxis": {
            "gridcolor": "white",
            "linecolor": "white",
            "ticks": ""
           },
           "bgcolor": "#E5ECF6",
           "caxis": {
            "gridcolor": "white",
            "linecolor": "white",
            "ticks": ""
           }
          },
          "title": {
           "x": 0.05
          },
          "xaxis": {
           "automargin": true,
           "gridcolor": "white",
           "linecolor": "white",
           "ticks": "",
           "title": {
            "standoff": 15
           },
           "zerolinecolor": "white",
           "zerolinewidth": 2
          },
          "yaxis": {
           "automargin": true,
           "gridcolor": "white",
           "linecolor": "white",
           "ticks": "",
           "title": {
            "standoff": 15
           },
           "zerolinecolor": "white",
           "zerolinewidth": 2
          }
         }
        },
        "title": {
         "text": "Correlation Matrix Heatmap"
        },
        "xaxis": {
         "anchor": "y",
         "constrain": "domain",
         "domain": [
          0,
          1
         ],
         "scaleanchor": "y",
         "title": {
          "text": "Features"
         }
        },
        "yaxis": {
         "anchor": "x",
         "autorange": "reversed",
         "constrain": "domain",
         "domain": [
          0,
          1
         ],
         "title": {
          "text": "Features"
         }
        }
       }
      }
     },
     "metadata": {},
     "output_type": "display_data"
    }
   ],
   "source": [
    "import plotly.express as px\n",
    "\n",
    "# Compute the correlation matrix\n",
    "corr = train_df.corr()\n",
    "\n",
    "# Create the heatmap\n",
    "fig = px.imshow(corr, text_auto=True, color_continuous_scale='RdBu_r', zmin=-1, zmax=1)\n",
    "\n",
    "# Update layout for better appearance\n",
    "fig.update_layout(\n",
    "    title='Correlation Matrix Heatmap',\n",
    "    xaxis_title='Features',\n",
    "    yaxis_title='Features'\n",
    ")\n",
    "\n",
    "# Show the plot\n",
    "fig.show()\n"
   ]
  },
  {
   "cell_type": "markdown",
   "metadata": {},
   "source": [
    "                            Test the Data"
   ]
  },
  {
   "cell_type": "code",
   "execution_count": 21,
   "metadata": {},
   "outputs": [],
   "source": [
    "testdf = pd.read_csv(\"test.csv\")"
   ]
  },
  {
   "cell_type": "code",
   "execution_count": 22,
   "metadata": {},
   "outputs": [
    {
     "data": {
      "text/html": [
       "<div>\n",
       "<style scoped>\n",
       "    .dataframe tbody tr th:only-of-type {\n",
       "        vertical-align: middle;\n",
       "    }\n",
       "\n",
       "    .dataframe tbody tr th {\n",
       "        vertical-align: top;\n",
       "    }\n",
       "\n",
       "    .dataframe thead th {\n",
       "        text-align: right;\n",
       "    }\n",
       "</style>\n",
       "<table border=\"1\" class=\"dataframe\">\n",
       "  <thead>\n",
       "    <tr style=\"text-align: right;\">\n",
       "      <th></th>\n",
       "      <th>Id</th>\n",
       "      <th>MSSubClass</th>\n",
       "      <th>MSZoning</th>\n",
       "      <th>LotFrontage</th>\n",
       "      <th>LotArea</th>\n",
       "      <th>Street</th>\n",
       "      <th>Alley</th>\n",
       "      <th>LotShape</th>\n",
       "      <th>LandContour</th>\n",
       "      <th>Utilities</th>\n",
       "      <th>...</th>\n",
       "      <th>ScreenPorch</th>\n",
       "      <th>PoolArea</th>\n",
       "      <th>PoolQC</th>\n",
       "      <th>Fence</th>\n",
       "      <th>MiscFeature</th>\n",
       "      <th>MiscVal</th>\n",
       "      <th>MoSold</th>\n",
       "      <th>YrSold</th>\n",
       "      <th>SaleType</th>\n",
       "      <th>SaleCondition</th>\n",
       "    </tr>\n",
       "  </thead>\n",
       "  <tbody>\n",
       "    <tr>\n",
       "      <th>0</th>\n",
       "      <td>1461</td>\n",
       "      <td>20</td>\n",
       "      <td>RH</td>\n",
       "      <td>80.0</td>\n",
       "      <td>11622</td>\n",
       "      <td>Pave</td>\n",
       "      <td>NaN</td>\n",
       "      <td>Reg</td>\n",
       "      <td>Lvl</td>\n",
       "      <td>AllPub</td>\n",
       "      <td>...</td>\n",
       "      <td>120</td>\n",
       "      <td>0</td>\n",
       "      <td>NaN</td>\n",
       "      <td>MnPrv</td>\n",
       "      <td>NaN</td>\n",
       "      <td>0</td>\n",
       "      <td>6</td>\n",
       "      <td>2010</td>\n",
       "      <td>WD</td>\n",
       "      <td>Normal</td>\n",
       "    </tr>\n",
       "    <tr>\n",
       "      <th>1</th>\n",
       "      <td>1462</td>\n",
       "      <td>20</td>\n",
       "      <td>RL</td>\n",
       "      <td>81.0</td>\n",
       "      <td>14267</td>\n",
       "      <td>Pave</td>\n",
       "      <td>NaN</td>\n",
       "      <td>IR1</td>\n",
       "      <td>Lvl</td>\n",
       "      <td>AllPub</td>\n",
       "      <td>...</td>\n",
       "      <td>0</td>\n",
       "      <td>0</td>\n",
       "      <td>NaN</td>\n",
       "      <td>NaN</td>\n",
       "      <td>Gar2</td>\n",
       "      <td>12500</td>\n",
       "      <td>6</td>\n",
       "      <td>2010</td>\n",
       "      <td>WD</td>\n",
       "      <td>Normal</td>\n",
       "    </tr>\n",
       "    <tr>\n",
       "      <th>2</th>\n",
       "      <td>1463</td>\n",
       "      <td>60</td>\n",
       "      <td>RL</td>\n",
       "      <td>74.0</td>\n",
       "      <td>13830</td>\n",
       "      <td>Pave</td>\n",
       "      <td>NaN</td>\n",
       "      <td>IR1</td>\n",
       "      <td>Lvl</td>\n",
       "      <td>AllPub</td>\n",
       "      <td>...</td>\n",
       "      <td>0</td>\n",
       "      <td>0</td>\n",
       "      <td>NaN</td>\n",
       "      <td>MnPrv</td>\n",
       "      <td>NaN</td>\n",
       "      <td>0</td>\n",
       "      <td>3</td>\n",
       "      <td>2010</td>\n",
       "      <td>WD</td>\n",
       "      <td>Normal</td>\n",
       "    </tr>\n",
       "    <tr>\n",
       "      <th>3</th>\n",
       "      <td>1464</td>\n",
       "      <td>60</td>\n",
       "      <td>RL</td>\n",
       "      <td>78.0</td>\n",
       "      <td>9978</td>\n",
       "      <td>Pave</td>\n",
       "      <td>NaN</td>\n",
       "      <td>IR1</td>\n",
       "      <td>Lvl</td>\n",
       "      <td>AllPub</td>\n",
       "      <td>...</td>\n",
       "      <td>0</td>\n",
       "      <td>0</td>\n",
       "      <td>NaN</td>\n",
       "      <td>NaN</td>\n",
       "      <td>NaN</td>\n",
       "      <td>0</td>\n",
       "      <td>6</td>\n",
       "      <td>2010</td>\n",
       "      <td>WD</td>\n",
       "      <td>Normal</td>\n",
       "    </tr>\n",
       "    <tr>\n",
       "      <th>4</th>\n",
       "      <td>1465</td>\n",
       "      <td>120</td>\n",
       "      <td>RL</td>\n",
       "      <td>43.0</td>\n",
       "      <td>5005</td>\n",
       "      <td>Pave</td>\n",
       "      <td>NaN</td>\n",
       "      <td>IR1</td>\n",
       "      <td>HLS</td>\n",
       "      <td>AllPub</td>\n",
       "      <td>...</td>\n",
       "      <td>144</td>\n",
       "      <td>0</td>\n",
       "      <td>NaN</td>\n",
       "      <td>NaN</td>\n",
       "      <td>NaN</td>\n",
       "      <td>0</td>\n",
       "      <td>1</td>\n",
       "      <td>2010</td>\n",
       "      <td>WD</td>\n",
       "      <td>Normal</td>\n",
       "    </tr>\n",
       "  </tbody>\n",
       "</table>\n",
       "<p>5 rows × 80 columns</p>\n",
       "</div>"
      ],
      "text/plain": [
       "     Id  MSSubClass MSZoning  LotFrontage  LotArea Street Alley LotShape   \n",
       "0  1461          20       RH         80.0    11622   Pave   NaN      Reg  \\\n",
       "1  1462          20       RL         81.0    14267   Pave   NaN      IR1   \n",
       "2  1463          60       RL         74.0    13830   Pave   NaN      IR1   \n",
       "3  1464          60       RL         78.0     9978   Pave   NaN      IR1   \n",
       "4  1465         120       RL         43.0     5005   Pave   NaN      IR1   \n",
       "\n",
       "  LandContour Utilities  ... ScreenPorch PoolArea PoolQC  Fence MiscFeature   \n",
       "0         Lvl    AllPub  ...         120        0    NaN  MnPrv         NaN  \\\n",
       "1         Lvl    AllPub  ...           0        0    NaN    NaN        Gar2   \n",
       "2         Lvl    AllPub  ...           0        0    NaN  MnPrv         NaN   \n",
       "3         Lvl    AllPub  ...           0        0    NaN    NaN         NaN   \n",
       "4         HLS    AllPub  ...         144        0    NaN    NaN         NaN   \n",
       "\n",
       "  MiscVal MoSold  YrSold  SaleType  SaleCondition  \n",
       "0       0      6    2010        WD         Normal  \n",
       "1   12500      6    2010        WD         Normal  \n",
       "2       0      3    2010        WD         Normal  \n",
       "3       0      6    2010        WD         Normal  \n",
       "4       0      1    2010        WD         Normal  \n",
       "\n",
       "[5 rows x 80 columns]"
      ]
     },
     "execution_count": 22,
     "metadata": {},
     "output_type": "execute_result"
    }
   ],
   "source": [
    "testdf.head()"
   ]
  },
  {
   "cell_type": "code",
   "execution_count": 23,
   "metadata": {},
   "outputs": [],
   "source": [
    "req_tst = [\"GarageArea\",\"OverallQual\",\"TotalBsmtSF\",\"1stFlrSF\",\"2ndFlrSF\",\"LowQualFinSF\",\"GrLivArea\",\"BsmtFullBath\",\"BsmtHalfBath\",\"FullBath\",\"HalfBath\",\"TotRmsAbvGrd\"]"
   ]
  },
  {
   "cell_type": "code",
   "execution_count": 24,
   "metadata": {},
   "outputs": [],
   "source": [
    "selected_tst = testdf[req_tst]"
   ]
  },
  {
   "cell_type": "code",
   "execution_count": 25,
   "metadata": {},
   "outputs": [
    {
     "name": "stderr",
     "output_type": "stream",
     "text": [
      "C:\\Users\\hp\\AppData\\Local\\Temp\\ipykernel_7696\\771691818.py:1: SettingWithCopyWarning: \n",
      "A value is trying to be set on a copy of a slice from a DataFrame.\n",
      "Try using .loc[row_indexer,col_indexer] = value instead\n",
      "\n",
      "See the caveats in the documentation: https://pandas.pydata.org/pandas-docs/stable/user_guide/indexing.html#returning-a-view-versus-a-copy\n",
      "  selected_tst.loc[:, 'TotalBath'] = (selected_tst['BsmtFullBath'].fillna(0) +\n",
      "C:\\Users\\hp\\AppData\\Local\\Temp\\ipykernel_7696\\771691818.py:6: SettingWithCopyWarning: \n",
      "A value is trying to be set on a copy of a slice from a DataFrame.\n",
      "Try using .loc[row_indexer,col_indexer] = value instead\n",
      "\n",
      "See the caveats in the documentation: https://pandas.pydata.org/pandas-docs/stable/user_guide/indexing.html#returning-a-view-versus-a-copy\n",
      "  selected_tst.loc[:, 'TotalSF'] = (selected_tst['TotalBsmtSF'].fillna(0) +\n"
     ]
    }
   ],
   "source": [
    "selected_tst.loc[:, 'TotalBath'] = (selected_tst['BsmtFullBath'].fillna(0) + \n",
    "                                    selected_tst['BsmtHalfBath'].fillna(0) + \n",
    "                                    selected_tst['FullBath'].fillna(0) + \n",
    "                                    selected_tst['HalfBath'].fillna(0))\n",
    "\n",
    "selected_tst.loc[:, 'TotalSF'] = (selected_tst['TotalBsmtSF'].fillna(0) + \n",
    "                                  selected_tst['1stFlrSF'].fillna(0) + \n",
    "                                  selected_tst['2ndFlrSF'].fillna(0) + \n",
    "                                  selected_tst['LowQualFinSF'].fillna(0) + \n",
    "                                  selected_tst['GrLivArea'].fillna(0))"
   ]
  },
  {
   "cell_type": "code",
   "execution_count": 26,
   "metadata": {},
   "outputs": [
    {
     "data": {
      "text/html": [
       "<div>\n",
       "<style scoped>\n",
       "    .dataframe tbody tr th:only-of-type {\n",
       "        vertical-align: middle;\n",
       "    }\n",
       "\n",
       "    .dataframe tbody tr th {\n",
       "        vertical-align: top;\n",
       "    }\n",
       "\n",
       "    .dataframe thead th {\n",
       "        text-align: right;\n",
       "    }\n",
       "</style>\n",
       "<table border=\"1\" class=\"dataframe\">\n",
       "  <thead>\n",
       "    <tr style=\"text-align: right;\">\n",
       "      <th></th>\n",
       "      <th>GarageArea</th>\n",
       "      <th>OverallQual</th>\n",
       "      <th>TotalBsmtSF</th>\n",
       "      <th>1stFlrSF</th>\n",
       "      <th>2ndFlrSF</th>\n",
       "      <th>LowQualFinSF</th>\n",
       "      <th>GrLivArea</th>\n",
       "      <th>BsmtFullBath</th>\n",
       "      <th>BsmtHalfBath</th>\n",
       "      <th>FullBath</th>\n",
       "      <th>HalfBath</th>\n",
       "      <th>TotRmsAbvGrd</th>\n",
       "      <th>TotalBath</th>\n",
       "      <th>TotalSF</th>\n",
       "    </tr>\n",
       "  </thead>\n",
       "  <tbody>\n",
       "    <tr>\n",
       "      <th>0</th>\n",
       "      <td>730.0</td>\n",
       "      <td>5</td>\n",
       "      <td>882.0</td>\n",
       "      <td>896</td>\n",
       "      <td>0</td>\n",
       "      <td>0</td>\n",
       "      <td>896</td>\n",
       "      <td>0.0</td>\n",
       "      <td>0.0</td>\n",
       "      <td>1</td>\n",
       "      <td>0</td>\n",
       "      <td>5</td>\n",
       "      <td>1.0</td>\n",
       "      <td>2674.0</td>\n",
       "    </tr>\n",
       "    <tr>\n",
       "      <th>1</th>\n",
       "      <td>312.0</td>\n",
       "      <td>6</td>\n",
       "      <td>1329.0</td>\n",
       "      <td>1329</td>\n",
       "      <td>0</td>\n",
       "      <td>0</td>\n",
       "      <td>1329</td>\n",
       "      <td>0.0</td>\n",
       "      <td>0.0</td>\n",
       "      <td>1</td>\n",
       "      <td>1</td>\n",
       "      <td>6</td>\n",
       "      <td>2.0</td>\n",
       "      <td>3987.0</td>\n",
       "    </tr>\n",
       "    <tr>\n",
       "      <th>2</th>\n",
       "      <td>482.0</td>\n",
       "      <td>5</td>\n",
       "      <td>928.0</td>\n",
       "      <td>928</td>\n",
       "      <td>701</td>\n",
       "      <td>0</td>\n",
       "      <td>1629</td>\n",
       "      <td>0.0</td>\n",
       "      <td>0.0</td>\n",
       "      <td>2</td>\n",
       "      <td>1</td>\n",
       "      <td>6</td>\n",
       "      <td>3.0</td>\n",
       "      <td>4186.0</td>\n",
       "    </tr>\n",
       "    <tr>\n",
       "      <th>3</th>\n",
       "      <td>470.0</td>\n",
       "      <td>6</td>\n",
       "      <td>926.0</td>\n",
       "      <td>926</td>\n",
       "      <td>678</td>\n",
       "      <td>0</td>\n",
       "      <td>1604</td>\n",
       "      <td>0.0</td>\n",
       "      <td>0.0</td>\n",
       "      <td>2</td>\n",
       "      <td>1</td>\n",
       "      <td>7</td>\n",
       "      <td>3.0</td>\n",
       "      <td>4134.0</td>\n",
       "    </tr>\n",
       "    <tr>\n",
       "      <th>4</th>\n",
       "      <td>506.0</td>\n",
       "      <td>8</td>\n",
       "      <td>1280.0</td>\n",
       "      <td>1280</td>\n",
       "      <td>0</td>\n",
       "      <td>0</td>\n",
       "      <td>1280</td>\n",
       "      <td>0.0</td>\n",
       "      <td>0.0</td>\n",
       "      <td>2</td>\n",
       "      <td>0</td>\n",
       "      <td>5</td>\n",
       "      <td>2.0</td>\n",
       "      <td>3840.0</td>\n",
       "    </tr>\n",
       "    <tr>\n",
       "      <th>...</th>\n",
       "      <td>...</td>\n",
       "      <td>...</td>\n",
       "      <td>...</td>\n",
       "      <td>...</td>\n",
       "      <td>...</td>\n",
       "      <td>...</td>\n",
       "      <td>...</td>\n",
       "      <td>...</td>\n",
       "      <td>...</td>\n",
       "      <td>...</td>\n",
       "      <td>...</td>\n",
       "      <td>...</td>\n",
       "      <td>...</td>\n",
       "      <td>...</td>\n",
       "    </tr>\n",
       "    <tr>\n",
       "      <th>1454</th>\n",
       "      <td>0.0</td>\n",
       "      <td>4</td>\n",
       "      <td>546.0</td>\n",
       "      <td>546</td>\n",
       "      <td>546</td>\n",
       "      <td>0</td>\n",
       "      <td>1092</td>\n",
       "      <td>0.0</td>\n",
       "      <td>0.0</td>\n",
       "      <td>1</td>\n",
       "      <td>1</td>\n",
       "      <td>5</td>\n",
       "      <td>2.0</td>\n",
       "      <td>2730.0</td>\n",
       "    </tr>\n",
       "    <tr>\n",
       "      <th>1455</th>\n",
       "      <td>286.0</td>\n",
       "      <td>4</td>\n",
       "      <td>546.0</td>\n",
       "      <td>546</td>\n",
       "      <td>546</td>\n",
       "      <td>0</td>\n",
       "      <td>1092</td>\n",
       "      <td>0.0</td>\n",
       "      <td>0.0</td>\n",
       "      <td>1</td>\n",
       "      <td>1</td>\n",
       "      <td>6</td>\n",
       "      <td>2.0</td>\n",
       "      <td>2730.0</td>\n",
       "    </tr>\n",
       "    <tr>\n",
       "      <th>1456</th>\n",
       "      <td>576.0</td>\n",
       "      <td>5</td>\n",
       "      <td>1224.0</td>\n",
       "      <td>1224</td>\n",
       "      <td>0</td>\n",
       "      <td>0</td>\n",
       "      <td>1224</td>\n",
       "      <td>1.0</td>\n",
       "      <td>0.0</td>\n",
       "      <td>1</td>\n",
       "      <td>0</td>\n",
       "      <td>7</td>\n",
       "      <td>2.0</td>\n",
       "      <td>3672.0</td>\n",
       "    </tr>\n",
       "    <tr>\n",
       "      <th>1457</th>\n",
       "      <td>0.0</td>\n",
       "      <td>5</td>\n",
       "      <td>912.0</td>\n",
       "      <td>970</td>\n",
       "      <td>0</td>\n",
       "      <td>0</td>\n",
       "      <td>970</td>\n",
       "      <td>0.0</td>\n",
       "      <td>1.0</td>\n",
       "      <td>1</td>\n",
       "      <td>0</td>\n",
       "      <td>6</td>\n",
       "      <td>2.0</td>\n",
       "      <td>2852.0</td>\n",
       "    </tr>\n",
       "    <tr>\n",
       "      <th>1458</th>\n",
       "      <td>650.0</td>\n",
       "      <td>7</td>\n",
       "      <td>996.0</td>\n",
       "      <td>996</td>\n",
       "      <td>1004</td>\n",
       "      <td>0</td>\n",
       "      <td>2000</td>\n",
       "      <td>0.0</td>\n",
       "      <td>0.0</td>\n",
       "      <td>2</td>\n",
       "      <td>1</td>\n",
       "      <td>9</td>\n",
       "      <td>3.0</td>\n",
       "      <td>4996.0</td>\n",
       "    </tr>\n",
       "  </tbody>\n",
       "</table>\n",
       "<p>1459 rows × 14 columns</p>\n",
       "</div>"
      ],
      "text/plain": [
       "      GarageArea  OverallQual  TotalBsmtSF  1stFlrSF  2ndFlrSF  LowQualFinSF   \n",
       "0          730.0            5        882.0       896         0             0  \\\n",
       "1          312.0            6       1329.0      1329         0             0   \n",
       "2          482.0            5        928.0       928       701             0   \n",
       "3          470.0            6        926.0       926       678             0   \n",
       "4          506.0            8       1280.0      1280         0             0   \n",
       "...          ...          ...          ...       ...       ...           ...   \n",
       "1454         0.0            4        546.0       546       546             0   \n",
       "1455       286.0            4        546.0       546       546             0   \n",
       "1456       576.0            5       1224.0      1224         0             0   \n",
       "1457         0.0            5        912.0       970         0             0   \n",
       "1458       650.0            7        996.0       996      1004             0   \n",
       "\n",
       "      GrLivArea  BsmtFullBath  BsmtHalfBath  FullBath  HalfBath  TotRmsAbvGrd   \n",
       "0           896           0.0           0.0         1         0             5  \\\n",
       "1          1329           0.0           0.0         1         1             6   \n",
       "2          1629           0.0           0.0         2         1             6   \n",
       "3          1604           0.0           0.0         2         1             7   \n",
       "4          1280           0.0           0.0         2         0             5   \n",
       "...         ...           ...           ...       ...       ...           ...   \n",
       "1454       1092           0.0           0.0         1         1             5   \n",
       "1455       1092           0.0           0.0         1         1             6   \n",
       "1456       1224           1.0           0.0         1         0             7   \n",
       "1457        970           0.0           1.0         1         0             6   \n",
       "1458       2000           0.0           0.0         2         1             9   \n",
       "\n",
       "      TotalBath  TotalSF  \n",
       "0           1.0   2674.0  \n",
       "1           2.0   3987.0  \n",
       "2           3.0   4186.0  \n",
       "3           3.0   4134.0  \n",
       "4           2.0   3840.0  \n",
       "...         ...      ...  \n",
       "1454        2.0   2730.0  \n",
       "1455        2.0   2730.0  \n",
       "1456        2.0   3672.0  \n",
       "1457        2.0   2852.0  \n",
       "1458        3.0   4996.0  \n",
       "\n",
       "[1459 rows x 14 columns]"
      ]
     },
     "execution_count": 26,
     "metadata": {},
     "output_type": "execute_result"
    }
   ],
   "source": [
    "selected_tst"
   ]
  },
  {
   "cell_type": "code",
   "execution_count": 27,
   "metadata": {},
   "outputs": [],
   "source": [
    "test_df_unproc = selected_tst[['TotRmsAbvGrd','TotalBath','GarageArea','TotalSF','OverallQual']]"
   ]
  },
  {
   "cell_type": "code",
   "execution_count": 28,
   "metadata": {},
   "outputs": [
    {
     "data": {
      "text/html": [
       "<div>\n",
       "<style scoped>\n",
       "    .dataframe tbody tr th:only-of-type {\n",
       "        vertical-align: middle;\n",
       "    }\n",
       "\n",
       "    .dataframe tbody tr th {\n",
       "        vertical-align: top;\n",
       "    }\n",
       "\n",
       "    .dataframe thead th {\n",
       "        text-align: right;\n",
       "    }\n",
       "</style>\n",
       "<table border=\"1\" class=\"dataframe\">\n",
       "  <thead>\n",
       "    <tr style=\"text-align: right;\">\n",
       "      <th></th>\n",
       "      <th>TotRmsAbvGrd</th>\n",
       "      <th>TotalBath</th>\n",
       "      <th>GarageArea</th>\n",
       "      <th>TotalSF</th>\n",
       "      <th>OverallQual</th>\n",
       "    </tr>\n",
       "  </thead>\n",
       "  <tbody>\n",
       "    <tr>\n",
       "      <th>0</th>\n",
       "      <td>5</td>\n",
       "      <td>1.0</td>\n",
       "      <td>730.0</td>\n",
       "      <td>2674.0</td>\n",
       "      <td>5</td>\n",
       "    </tr>\n",
       "    <tr>\n",
       "      <th>1</th>\n",
       "      <td>6</td>\n",
       "      <td>2.0</td>\n",
       "      <td>312.0</td>\n",
       "      <td>3987.0</td>\n",
       "      <td>6</td>\n",
       "    </tr>\n",
       "    <tr>\n",
       "      <th>2</th>\n",
       "      <td>6</td>\n",
       "      <td>3.0</td>\n",
       "      <td>482.0</td>\n",
       "      <td>4186.0</td>\n",
       "      <td>5</td>\n",
       "    </tr>\n",
       "    <tr>\n",
       "      <th>3</th>\n",
       "      <td>7</td>\n",
       "      <td>3.0</td>\n",
       "      <td>470.0</td>\n",
       "      <td>4134.0</td>\n",
       "      <td>6</td>\n",
       "    </tr>\n",
       "    <tr>\n",
       "      <th>4</th>\n",
       "      <td>5</td>\n",
       "      <td>2.0</td>\n",
       "      <td>506.0</td>\n",
       "      <td>3840.0</td>\n",
       "      <td>8</td>\n",
       "    </tr>\n",
       "    <tr>\n",
       "      <th>...</th>\n",
       "      <td>...</td>\n",
       "      <td>...</td>\n",
       "      <td>...</td>\n",
       "      <td>...</td>\n",
       "      <td>...</td>\n",
       "    </tr>\n",
       "    <tr>\n",
       "      <th>1454</th>\n",
       "      <td>5</td>\n",
       "      <td>2.0</td>\n",
       "      <td>0.0</td>\n",
       "      <td>2730.0</td>\n",
       "      <td>4</td>\n",
       "    </tr>\n",
       "    <tr>\n",
       "      <th>1455</th>\n",
       "      <td>6</td>\n",
       "      <td>2.0</td>\n",
       "      <td>286.0</td>\n",
       "      <td>2730.0</td>\n",
       "      <td>4</td>\n",
       "    </tr>\n",
       "    <tr>\n",
       "      <th>1456</th>\n",
       "      <td>7</td>\n",
       "      <td>2.0</td>\n",
       "      <td>576.0</td>\n",
       "      <td>3672.0</td>\n",
       "      <td>5</td>\n",
       "    </tr>\n",
       "    <tr>\n",
       "      <th>1457</th>\n",
       "      <td>6</td>\n",
       "      <td>2.0</td>\n",
       "      <td>0.0</td>\n",
       "      <td>2852.0</td>\n",
       "      <td>5</td>\n",
       "    </tr>\n",
       "    <tr>\n",
       "      <th>1458</th>\n",
       "      <td>9</td>\n",
       "      <td>3.0</td>\n",
       "      <td>650.0</td>\n",
       "      <td>4996.0</td>\n",
       "      <td>7</td>\n",
       "    </tr>\n",
       "  </tbody>\n",
       "</table>\n",
       "<p>1459 rows × 5 columns</p>\n",
       "</div>"
      ],
      "text/plain": [
       "      TotRmsAbvGrd  TotalBath  GarageArea  TotalSF  OverallQual\n",
       "0                5        1.0       730.0   2674.0            5\n",
       "1                6        2.0       312.0   3987.0            6\n",
       "2                6        3.0       482.0   4186.0            5\n",
       "3                7        3.0       470.0   4134.0            6\n",
       "4                5        2.0       506.0   3840.0            8\n",
       "...            ...        ...         ...      ...          ...\n",
       "1454             5        2.0         0.0   2730.0            4\n",
       "1455             6        2.0       286.0   2730.0            4\n",
       "1456             7        2.0       576.0   3672.0            5\n",
       "1457             6        2.0         0.0   2852.0            5\n",
       "1458             9        3.0       650.0   4996.0            7\n",
       "\n",
       "[1459 rows x 5 columns]"
      ]
     },
     "execution_count": 28,
     "metadata": {},
     "output_type": "execute_result"
    }
   ],
   "source": [
    "test_df_unproc"
   ]
  },
  {
   "cell_type": "code",
   "execution_count": 29,
   "metadata": {},
   "outputs": [],
   "source": [
    "test_df = test_df_unproc.fillna(test_df_unproc.mean())"
   ]
  },
  {
   "cell_type": "code",
   "execution_count": 30,
   "metadata": {},
   "outputs": [],
   "source": [
    "x_test = my_pipeline.transform(test_df[['TotRmsAbvGrd','TotalBath','GarageArea','TotalSF','OverallQual']].values)"
   ]
  },
  {
   "cell_type": "code",
   "execution_count": 31,
   "metadata": {},
   "outputs": [
    {
     "data": {
      "text/plain": [
       "array([[-0.96456591, -1.57881784,  1.2024646 , -1.10333489, -0.82044456],\n",
       "       [-0.34690528, -0.48377079, -0.77853123, -0.09910341, -0.08893368],\n",
       "       [-0.34690528,  0.61127627,  0.02713693,  0.05309923, -0.82044456],\n",
       "       ...,\n",
       "       [ 0.27075534, -0.48377079,  0.47262403, -0.34002719, -0.82044456],\n",
       "       [-0.34690528, -0.48377079, -2.25716927, -0.96719384, -0.82044456],\n",
       "       [ 1.50607659,  0.61127627,  0.82332664,  0.67261751,  0.64257719]])"
      ]
     },
     "execution_count": 31,
     "metadata": {},
     "output_type": "execute_result"
    }
   ],
   "source": [
    "x_test"
   ]
  },
  {
   "cell_type": "markdown",
   "metadata": {},
   "source": [
    "                           Model Selection"
   ]
  },
  {
   "cell_type": "code",
   "execution_count": 32,
   "metadata": {},
   "outputs": [
    {
     "data": {
      "text/html": [
       "<style>#sk-container-id-1 {\n",
       "  /* Definition of color scheme common for light and dark mode */\n",
       "  --sklearn-color-text: black;\n",
       "  --sklearn-color-line: gray;\n",
       "  /* Definition of color scheme for unfitted estimators */\n",
       "  --sklearn-color-unfitted-level-0: #fff5e6;\n",
       "  --sklearn-color-unfitted-level-1: #f6e4d2;\n",
       "  --sklearn-color-unfitted-level-2: #ffe0b3;\n",
       "  --sklearn-color-unfitted-level-3: chocolate;\n",
       "  /* Definition of color scheme for fitted estimators */\n",
       "  --sklearn-color-fitted-level-0: #f0f8ff;\n",
       "  --sklearn-color-fitted-level-1: #d4ebff;\n",
       "  --sklearn-color-fitted-level-2: #b3dbfd;\n",
       "  --sklearn-color-fitted-level-3: cornflowerblue;\n",
       "\n",
       "  /* Specific color for light theme */\n",
       "  --sklearn-color-text-on-default-background: var(--sg-text-color, var(--theme-code-foreground, var(--jp-content-font-color1, black)));\n",
       "  --sklearn-color-background: var(--sg-background-color, var(--theme-background, var(--jp-layout-color0, white)));\n",
       "  --sklearn-color-border-box: var(--sg-text-color, var(--theme-code-foreground, var(--jp-content-font-color1, black)));\n",
       "  --sklearn-color-icon: #696969;\n",
       "\n",
       "  @media (prefers-color-scheme: dark) {\n",
       "    /* Redefinition of color scheme for dark theme */\n",
       "    --sklearn-color-text-on-default-background: var(--sg-text-color, var(--theme-code-foreground, var(--jp-content-font-color1, white)));\n",
       "    --sklearn-color-background: var(--sg-background-color, var(--theme-background, var(--jp-layout-color0, #111)));\n",
       "    --sklearn-color-border-box: var(--sg-text-color, var(--theme-code-foreground, var(--jp-content-font-color1, white)));\n",
       "    --sklearn-color-icon: #878787;\n",
       "  }\n",
       "}\n",
       "\n",
       "#sk-container-id-1 {\n",
       "  color: var(--sklearn-color-text);\n",
       "}\n",
       "\n",
       "#sk-container-id-1 pre {\n",
       "  padding: 0;\n",
       "}\n",
       "\n",
       "#sk-container-id-1 input.sk-hidden--visually {\n",
       "  border: 0;\n",
       "  clip: rect(1px 1px 1px 1px);\n",
       "  clip: rect(1px, 1px, 1px, 1px);\n",
       "  height: 1px;\n",
       "  margin: -1px;\n",
       "  overflow: hidden;\n",
       "  padding: 0;\n",
       "  position: absolute;\n",
       "  width: 1px;\n",
       "}\n",
       "\n",
       "#sk-container-id-1 div.sk-dashed-wrapped {\n",
       "  border: 1px dashed var(--sklearn-color-line);\n",
       "  margin: 0 0.4em 0.5em 0.4em;\n",
       "  box-sizing: border-box;\n",
       "  padding-bottom: 0.4em;\n",
       "  background-color: var(--sklearn-color-background);\n",
       "}\n",
       "\n",
       "#sk-container-id-1 div.sk-container {\n",
       "  /* jupyter's `normalize.less` sets `[hidden] { display: none; }`\n",
       "     but bootstrap.min.css set `[hidden] { display: none !important; }`\n",
       "     so we also need the `!important` here to be able to override the\n",
       "     default hidden behavior on the sphinx rendered scikit-learn.org.\n",
       "     See: https://github.com/scikit-learn/scikit-learn/issues/21755 */\n",
       "  display: inline-block !important;\n",
       "  position: relative;\n",
       "}\n",
       "\n",
       "#sk-container-id-1 div.sk-text-repr-fallback {\n",
       "  display: none;\n",
       "}\n",
       "\n",
       "div.sk-parallel-item,\n",
       "div.sk-serial,\n",
       "div.sk-item {\n",
       "  /* draw centered vertical line to link estimators */\n",
       "  background-image: linear-gradient(var(--sklearn-color-text-on-default-background), var(--sklearn-color-text-on-default-background));\n",
       "  background-size: 2px 100%;\n",
       "  background-repeat: no-repeat;\n",
       "  background-position: center center;\n",
       "}\n",
       "\n",
       "/* Parallel-specific style estimator block */\n",
       "\n",
       "#sk-container-id-1 div.sk-parallel-item::after {\n",
       "  content: \"\";\n",
       "  width: 100%;\n",
       "  border-bottom: 2px solid var(--sklearn-color-text-on-default-background);\n",
       "  flex-grow: 1;\n",
       "}\n",
       "\n",
       "#sk-container-id-1 div.sk-parallel {\n",
       "  display: flex;\n",
       "  align-items: stretch;\n",
       "  justify-content: center;\n",
       "  background-color: var(--sklearn-color-background);\n",
       "  position: relative;\n",
       "}\n",
       "\n",
       "#sk-container-id-1 div.sk-parallel-item {\n",
       "  display: flex;\n",
       "  flex-direction: column;\n",
       "}\n",
       "\n",
       "#sk-container-id-1 div.sk-parallel-item:first-child::after {\n",
       "  align-self: flex-end;\n",
       "  width: 50%;\n",
       "}\n",
       "\n",
       "#sk-container-id-1 div.sk-parallel-item:last-child::after {\n",
       "  align-self: flex-start;\n",
       "  width: 50%;\n",
       "}\n",
       "\n",
       "#sk-container-id-1 div.sk-parallel-item:only-child::after {\n",
       "  width: 0;\n",
       "}\n",
       "\n",
       "/* Serial-specific style estimator block */\n",
       "\n",
       "#sk-container-id-1 div.sk-serial {\n",
       "  display: flex;\n",
       "  flex-direction: column;\n",
       "  align-items: center;\n",
       "  background-color: var(--sklearn-color-background);\n",
       "  padding-right: 1em;\n",
       "  padding-left: 1em;\n",
       "}\n",
       "\n",
       "\n",
       "/* Toggleable style: style used for estimator/Pipeline/ColumnTransformer box that is\n",
       "clickable and can be expanded/collapsed.\n",
       "- Pipeline and ColumnTransformer use this feature and define the default style\n",
       "- Estimators will overwrite some part of the style using the `sk-estimator` class\n",
       "*/\n",
       "\n",
       "/* Pipeline and ColumnTransformer style (default) */\n",
       "\n",
       "#sk-container-id-1 div.sk-toggleable {\n",
       "  /* Default theme specific background. It is overwritten whether we have a\n",
       "  specific estimator or a Pipeline/ColumnTransformer */\n",
       "  background-color: var(--sklearn-color-background);\n",
       "}\n",
       "\n",
       "/* Toggleable label */\n",
       "#sk-container-id-1 label.sk-toggleable__label {\n",
       "  cursor: pointer;\n",
       "  display: block;\n",
       "  width: 100%;\n",
       "  margin-bottom: 0;\n",
       "  padding: 0.5em;\n",
       "  box-sizing: border-box;\n",
       "  text-align: center;\n",
       "}\n",
       "\n",
       "#sk-container-id-1 label.sk-toggleable__label-arrow:before {\n",
       "  /* Arrow on the left of the label */\n",
       "  content: \"▸\";\n",
       "  float: left;\n",
       "  margin-right: 0.25em;\n",
       "  color: var(--sklearn-color-icon);\n",
       "}\n",
       "\n",
       "#sk-container-id-1 label.sk-toggleable__label-arrow:hover:before {\n",
       "  color: var(--sklearn-color-text);\n",
       "}\n",
       "\n",
       "/* Toggleable content - dropdown */\n",
       "\n",
       "#sk-container-id-1 div.sk-toggleable__content {\n",
       "  max-height: 0;\n",
       "  max-width: 0;\n",
       "  overflow: hidden;\n",
       "  text-align: left;\n",
       "  /* unfitted */\n",
       "  background-color: var(--sklearn-color-unfitted-level-0);\n",
       "}\n",
       "\n",
       "#sk-container-id-1 div.sk-toggleable__content.fitted {\n",
       "  /* fitted */\n",
       "  background-color: var(--sklearn-color-fitted-level-0);\n",
       "}\n",
       "\n",
       "#sk-container-id-1 div.sk-toggleable__content pre {\n",
       "  margin: 0.2em;\n",
       "  border-radius: 0.25em;\n",
       "  color: var(--sklearn-color-text);\n",
       "  /* unfitted */\n",
       "  background-color: var(--sklearn-color-unfitted-level-0);\n",
       "}\n",
       "\n",
       "#sk-container-id-1 div.sk-toggleable__content.fitted pre {\n",
       "  /* unfitted */\n",
       "  background-color: var(--sklearn-color-fitted-level-0);\n",
       "}\n",
       "\n",
       "#sk-container-id-1 input.sk-toggleable__control:checked~div.sk-toggleable__content {\n",
       "  /* Expand drop-down */\n",
       "  max-height: 200px;\n",
       "  max-width: 100%;\n",
       "  overflow: auto;\n",
       "}\n",
       "\n",
       "#sk-container-id-1 input.sk-toggleable__control:checked~label.sk-toggleable__label-arrow:before {\n",
       "  content: \"▾\";\n",
       "}\n",
       "\n",
       "/* Pipeline/ColumnTransformer-specific style */\n",
       "\n",
       "#sk-container-id-1 div.sk-label input.sk-toggleable__control:checked~label.sk-toggleable__label {\n",
       "  color: var(--sklearn-color-text);\n",
       "  background-color: var(--sklearn-color-unfitted-level-2);\n",
       "}\n",
       "\n",
       "#sk-container-id-1 div.sk-label.fitted input.sk-toggleable__control:checked~label.sk-toggleable__label {\n",
       "  background-color: var(--sklearn-color-fitted-level-2);\n",
       "}\n",
       "\n",
       "/* Estimator-specific style */\n",
       "\n",
       "/* Colorize estimator box */\n",
       "#sk-container-id-1 div.sk-estimator input.sk-toggleable__control:checked~label.sk-toggleable__label {\n",
       "  /* unfitted */\n",
       "  background-color: var(--sklearn-color-unfitted-level-2);\n",
       "}\n",
       "\n",
       "#sk-container-id-1 div.sk-estimator.fitted input.sk-toggleable__control:checked~label.sk-toggleable__label {\n",
       "  /* fitted */\n",
       "  background-color: var(--sklearn-color-fitted-level-2);\n",
       "}\n",
       "\n",
       "#sk-container-id-1 div.sk-label label.sk-toggleable__label,\n",
       "#sk-container-id-1 div.sk-label label {\n",
       "  /* The background is the default theme color */\n",
       "  color: var(--sklearn-color-text-on-default-background);\n",
       "}\n",
       "\n",
       "/* On hover, darken the color of the background */\n",
       "#sk-container-id-1 div.sk-label:hover label.sk-toggleable__label {\n",
       "  color: var(--sklearn-color-text);\n",
       "  background-color: var(--sklearn-color-unfitted-level-2);\n",
       "}\n",
       "\n",
       "/* Label box, darken color on hover, fitted */\n",
       "#sk-container-id-1 div.sk-label.fitted:hover label.sk-toggleable__label.fitted {\n",
       "  color: var(--sklearn-color-text);\n",
       "  background-color: var(--sklearn-color-fitted-level-2);\n",
       "}\n",
       "\n",
       "/* Estimator label */\n",
       "\n",
       "#sk-container-id-1 div.sk-label label {\n",
       "  font-family: monospace;\n",
       "  font-weight: bold;\n",
       "  display: inline-block;\n",
       "  line-height: 1.2em;\n",
       "}\n",
       "\n",
       "#sk-container-id-1 div.sk-label-container {\n",
       "  text-align: center;\n",
       "}\n",
       "\n",
       "/* Estimator-specific */\n",
       "#sk-container-id-1 div.sk-estimator {\n",
       "  font-family: monospace;\n",
       "  border: 1px dotted var(--sklearn-color-border-box);\n",
       "  border-radius: 0.25em;\n",
       "  box-sizing: border-box;\n",
       "  margin-bottom: 0.5em;\n",
       "  /* unfitted */\n",
       "  background-color: var(--sklearn-color-unfitted-level-0);\n",
       "}\n",
       "\n",
       "#sk-container-id-1 div.sk-estimator.fitted {\n",
       "  /* fitted */\n",
       "  background-color: var(--sklearn-color-fitted-level-0);\n",
       "}\n",
       "\n",
       "/* on hover */\n",
       "#sk-container-id-1 div.sk-estimator:hover {\n",
       "  /* unfitted */\n",
       "  background-color: var(--sklearn-color-unfitted-level-2);\n",
       "}\n",
       "\n",
       "#sk-container-id-1 div.sk-estimator.fitted:hover {\n",
       "  /* fitted */\n",
       "  background-color: var(--sklearn-color-fitted-level-2);\n",
       "}\n",
       "\n",
       "/* Specification for estimator info (e.g. \"i\" and \"?\") */\n",
       "\n",
       "/* Common style for \"i\" and \"?\" */\n",
       "\n",
       ".sk-estimator-doc-link,\n",
       "a:link.sk-estimator-doc-link,\n",
       "a:visited.sk-estimator-doc-link {\n",
       "  float: right;\n",
       "  font-size: smaller;\n",
       "  line-height: 1em;\n",
       "  font-family: monospace;\n",
       "  background-color: var(--sklearn-color-background);\n",
       "  border-radius: 1em;\n",
       "  height: 1em;\n",
       "  width: 1em;\n",
       "  text-decoration: none !important;\n",
       "  margin-left: 1ex;\n",
       "  /* unfitted */\n",
       "  border: var(--sklearn-color-unfitted-level-1) 1pt solid;\n",
       "  color: var(--sklearn-color-unfitted-level-1);\n",
       "}\n",
       "\n",
       ".sk-estimator-doc-link.fitted,\n",
       "a:link.sk-estimator-doc-link.fitted,\n",
       "a:visited.sk-estimator-doc-link.fitted {\n",
       "  /* fitted */\n",
       "  border: var(--sklearn-color-fitted-level-1) 1pt solid;\n",
       "  color: var(--sklearn-color-fitted-level-1);\n",
       "}\n",
       "\n",
       "/* On hover */\n",
       "div.sk-estimator:hover .sk-estimator-doc-link:hover,\n",
       ".sk-estimator-doc-link:hover,\n",
       "div.sk-label-container:hover .sk-estimator-doc-link:hover,\n",
       ".sk-estimator-doc-link:hover {\n",
       "  /* unfitted */\n",
       "  background-color: var(--sklearn-color-unfitted-level-3);\n",
       "  color: var(--sklearn-color-background);\n",
       "  text-decoration: none;\n",
       "}\n",
       "\n",
       "div.sk-estimator.fitted:hover .sk-estimator-doc-link.fitted:hover,\n",
       ".sk-estimator-doc-link.fitted:hover,\n",
       "div.sk-label-container:hover .sk-estimator-doc-link.fitted:hover,\n",
       ".sk-estimator-doc-link.fitted:hover {\n",
       "  /* fitted */\n",
       "  background-color: var(--sklearn-color-fitted-level-3);\n",
       "  color: var(--sklearn-color-background);\n",
       "  text-decoration: none;\n",
       "}\n",
       "\n",
       "/* Span, style for the box shown on hovering the info icon */\n",
       ".sk-estimator-doc-link span {\n",
       "  display: none;\n",
       "  z-index: 9999;\n",
       "  position: relative;\n",
       "  font-weight: normal;\n",
       "  right: .2ex;\n",
       "  padding: .5ex;\n",
       "  margin: .5ex;\n",
       "  width: min-content;\n",
       "  min-width: 20ex;\n",
       "  max-width: 50ex;\n",
       "  color: var(--sklearn-color-text);\n",
       "  box-shadow: 2pt 2pt 4pt #999;\n",
       "  /* unfitted */\n",
       "  background: var(--sklearn-color-unfitted-level-0);\n",
       "  border: .5pt solid var(--sklearn-color-unfitted-level-3);\n",
       "}\n",
       "\n",
       ".sk-estimator-doc-link.fitted span {\n",
       "  /* fitted */\n",
       "  background: var(--sklearn-color-fitted-level-0);\n",
       "  border: var(--sklearn-color-fitted-level-3);\n",
       "}\n",
       "\n",
       ".sk-estimator-doc-link:hover span {\n",
       "  display: block;\n",
       "}\n",
       "\n",
       "/* \"?\"-specific style due to the `<a>` HTML tag */\n",
       "\n",
       "#sk-container-id-1 a.estimator_doc_link {\n",
       "  float: right;\n",
       "  font-size: 1rem;\n",
       "  line-height: 1em;\n",
       "  font-family: monospace;\n",
       "  background-color: var(--sklearn-color-background);\n",
       "  border-radius: 1rem;\n",
       "  height: 1rem;\n",
       "  width: 1rem;\n",
       "  text-decoration: none;\n",
       "  /* unfitted */\n",
       "  color: var(--sklearn-color-unfitted-level-1);\n",
       "  border: var(--sklearn-color-unfitted-level-1) 1pt solid;\n",
       "}\n",
       "\n",
       "#sk-container-id-1 a.estimator_doc_link.fitted {\n",
       "  /* fitted */\n",
       "  border: var(--sklearn-color-fitted-level-1) 1pt solid;\n",
       "  color: var(--sklearn-color-fitted-level-1);\n",
       "}\n",
       "\n",
       "/* On hover */\n",
       "#sk-container-id-1 a.estimator_doc_link:hover {\n",
       "  /* unfitted */\n",
       "  background-color: var(--sklearn-color-unfitted-level-3);\n",
       "  color: var(--sklearn-color-background);\n",
       "  text-decoration: none;\n",
       "}\n",
       "\n",
       "#sk-container-id-1 a.estimator_doc_link.fitted:hover {\n",
       "  /* fitted */\n",
       "  background-color: var(--sklearn-color-fitted-level-3);\n",
       "}\n",
       "</style><div id=\"sk-container-id-1\" class=\"sk-top-container\"><div class=\"sk-text-repr-fallback\"><pre>RandomForestRegressor()</pre><b>In a Jupyter environment, please rerun this cell to show the HTML representation or trust the notebook. <br />On GitHub, the HTML representation is unable to render, please try loading this page with nbviewer.org.</b></div><div class=\"sk-container\" hidden><div class=\"sk-item\"><div class=\"sk-estimator fitted sk-toggleable\"><input class=\"sk-toggleable__control sk-hidden--visually\" id=\"sk-estimator-id-1\" type=\"checkbox\" checked><label for=\"sk-estimator-id-1\" class=\"sk-toggleable__label fitted sk-toggleable__label-arrow fitted\">&nbsp;&nbsp;RandomForestRegressor<a class=\"sk-estimator-doc-link fitted\" rel=\"noreferrer\" target=\"_blank\" href=\"https://scikit-learn.org/1.4/modules/generated/sklearn.ensemble.RandomForestRegressor.html\">?<span>Documentation for RandomForestRegressor</span></a><span class=\"sk-estimator-doc-link fitted\">i<span>Fitted</span></span></label><div class=\"sk-toggleable__content fitted\"><pre>RandomForestRegressor()</pre></div> </div></div></div></div>"
      ],
      "text/plain": [
       "RandomForestRegressor()"
      ]
     },
     "execution_count": 32,
     "metadata": {},
     "output_type": "execute_result"
    }
   ],
   "source": [
    "#model = LinearRegression()\n",
    "#model = DecisionTreeRegressor()\n",
    "model = RandomForestRegressor()\n",
    "model.fit(X_train,Y_train)"
   ]
  },
  {
   "cell_type": "code",
   "execution_count": 33,
   "metadata": {},
   "outputs": [],
   "source": [
    "y_train_pred = model.predict(X_train)"
   ]
  },
  {
   "cell_type": "code",
   "execution_count": 34,
   "metadata": {},
   "outputs": [
    {
     "data": {
      "text/plain": [
       "array([147020.5 , 172662.  ,  90630.  , 168453.  , 140291.61])"
      ]
     },
     "execution_count": 34,
     "metadata": {},
     "output_type": "execute_result"
    }
   ],
   "source": [
    "y_train_pred[:5]"
   ]
  },
  {
   "cell_type": "code",
   "execution_count": 35,
   "metadata": {},
   "outputs": [],
   "source": [
    "some_data = housing.iloc[:5]\n",
    "some_labels = housing_labels.iloc[:5]"
   ]
  },
  {
   "cell_type": "code",
   "execution_count": 36,
   "metadata": {},
   "outputs": [],
   "source": [
    "proc_data = my_pipeline.transform(some_data)"
   ]
  },
  {
   "cell_type": "code",
   "execution_count": 37,
   "metadata": {},
   "outputs": [
    {
     "data": {
      "text/plain": [
       "array([147020.5 , 172662.  ,  90630.  , 168453.  , 140291.61])"
      ]
     },
     "execution_count": 37,
     "metadata": {},
     "output_type": "execute_result"
    }
   ],
   "source": [
    "model.predict(proc_data)"
   ]
  },
  {
   "cell_type": "code",
   "execution_count": 38,
   "metadata": {},
   "outputs": [
    {
     "data": {
      "text/plain": [
       "[145000, 178000, 85000, 175000, 127000]"
      ]
     },
     "execution_count": 38,
     "metadata": {},
     "output_type": "execute_result"
    }
   ],
   "source": [
    "list(some_labels)"
   ]
  },
  {
   "cell_type": "code",
   "execution_count": 46,
   "metadata": {},
   "outputs": [],
   "source": [
    "train_mse = mean_squared_error(Y_train,y_train_pred)"
   ]
  },
  {
   "cell_type": "code",
   "execution_count": 47,
   "metadata": {},
   "outputs": [],
   "source": [
    "train_rmse = np.sqrt(train_mse)"
   ]
  },
  {
   "cell_type": "code",
   "execution_count": 48,
   "metadata": {},
   "outputs": [
    {
     "name": "stdout",
     "output_type": "stream",
     "text": [
      "Training MSE: 179736827.90, Training RMSE: 13406.60\n"
     ]
    }
   ],
   "source": [
    "print(f\"Training MSE: {train_mse:.2f}, Training RMSE: {train_rmse:.2f}\")"
   ]
  },
  {
   "cell_type": "code",
   "execution_count": 49,
   "metadata": {},
   "outputs": [
    {
     "name": "stdout",
     "output_type": "stream",
     "text": [
      "Training MSE: 179736827.90, Training RMSE: 13406.60\n"
     ]
    }
   ],
   "source": [
    "print(f\"Training MSE: {train_mse:.2f}, Training RMSE: {train_rmse:.2f}\")"
   ]
  },
  {
   "cell_type": "markdown",
   "metadata": {},
   "source": [
    "                      Cross - Validation"
   ]
  },
  {
   "cell_type": "code",
   "execution_count": 51,
   "metadata": {},
   "outputs": [],
   "source": [
    "from sklearn.model_selection import cross_val_score\n",
    "scores = cross_val_score(model,X_train,Y_train,scoring=\"neg_mean_squared_error\",cv = 200)\n",
    "rmse_scores = np.sqrt(-scores)"
   ]
  },
  {
   "cell_type": "code",
   "execution_count": 52,
   "metadata": {},
   "outputs": [
    {
     "data": {
      "text/plain": [
       "array([ 22171.9002289 ,  16852.77136651,  25315.72286002,  12344.24868468,\n",
       "        46116.68955744,  11399.89593445,  19271.83966892,  11935.01784437,\n",
       "        10525.7330186 ,  52444.74202519,  34968.74319748,  29116.20544567,\n",
       "        13791.62567729,   7582.61670059,  22791.45754701,  22292.16711464,\n",
       "        21498.06919449,  37046.07082267,  37103.68902874,  24300.58775042,\n",
       "        24525.22648137,  19393.9572691 ,  17776.95252438,  27694.65152372,\n",
       "        18845.90492929,  16901.24077027,  40640.32960251,  35709.82658337,\n",
       "       165946.75502623,  49598.43231292,  25911.45455353,  30533.04941593,\n",
       "        20453.16124553,  33633.77501858,  48236.88015442,  12255.6688366 ,\n",
       "        24200.39141217,  29015.49078738,  19153.96020437,  30297.9531261 ,\n",
       "        19514.52898154,  32126.75597564,  26602.30708355,  27814.95217759,\n",
       "        33512.83407093,  28018.75725478,  29048.66784107,  44092.3022732 ,\n",
       "        21567.5086986 ,  21927.55597799,  20907.64833037,  50752.73586726,\n",
       "        42203.89287787,  39160.30264293,  21707.54483473,  25570.93007254,\n",
       "         9954.24087738,  27363.87271327,  26198.76380105,  32050.09418711,\n",
       "       200959.83042072,  12394.49520567,  25110.04667751,  36816.31857103,\n",
       "        24364.7339477 ,  26335.7643815 ,  40252.15222283,  29403.43891453,\n",
       "         9192.46036492,  14599.52159996,  53877.86884467,  26625.29744328,\n",
       "        57278.56887342,  19386.75837724,  41515.00933768,  42497.78950498,\n",
       "        41162.06865314,  28934.42776568,  39535.24581377,  32662.98160467,\n",
       "        25529.98707774,  33697.4891834 ,  95874.65261773,   8967.0489161 ,\n",
       "        46715.96254581,  34625.06711088,  19369.58157844,  22930.8953575 ,\n",
       "        35059.87380014,  80322.57463104,  20924.52720153,  22763.69340863,\n",
       "        25421.14746972,  25609.2182603 ,  19055.90980612,  23283.21246217,\n",
       "        23482.2881571 ,  28899.18024443,  68873.45499703,  17472.91259472,\n",
       "        31489.8338869 ,  26633.10913434,  45028.91285696,  53588.5547901 ,\n",
       "        17460.22395332,  18290.28240808,  36041.53356716,  17567.13166357,\n",
       "        20552.72522245,  15110.24974308,  20287.91231446,  12910.61796187,\n",
       "        12049.11537782,  19565.71432021,  28875.11528607,  31845.16796557,\n",
       "        76137.39752936,  28639.16334423,  17697.14874181,  26000.40138506,\n",
       "        28655.3390934 ,  27554.70153078,  15279.92735467,  19812.21215248,\n",
       "        30031.62047503,  18071.0264374 ,  29027.45891657,  44754.28113206,\n",
       "        36734.08171341,  16081.03225537,  34189.36308023,   8109.7206428 ,\n",
       "        24852.77414874,  26807.10323546,  25470.32108568,  11880.64997458,\n",
       "        45255.87965111,  31946.36495685,  27904.21485476,  12694.02388388,\n",
       "        24384.9734128 ,  25473.4641761 ,  26006.00618543,  12278.79136584,\n",
       "        32052.25482328,  29886.42482375,  34156.38120961,  13643.59035561,\n",
       "        12233.30351405,  16524.49454291,  24010.51447672,  25808.32758689,\n",
       "        14980.06027594,  42954.71121462,  30536.84227403,  11755.74147134,\n",
       "        27485.84598921,  24903.80641424,  20511.59893903,  23626.45869515,\n",
       "        59538.01366521,  29827.52149796,  28677.31754903,  17929.27067487,\n",
       "        49947.18539221,  21886.742834  ,  13607.97881919,  60397.4711096 ,\n",
       "        22179.67504864,  31775.15635611,  32678.39179398,  22735.51265935,\n",
       "        14945.97830991,  14259.3793102 ,  17535.52563482,  15954.94718823,\n",
       "        20818.46910893,  17742.01026888,  40226.63825013,  20551.6123291 ,\n",
       "        35685.15426401,   9839.96901268,  16692.53958745,   5962.52466562,\n",
       "        15843.88380828,  30950.3896282 ,  25463.41631095,  13737.1482381 ,\n",
       "        26240.82241329,  40309.76170679,  29083.33973558,  22354.04343781,\n",
       "        18467.256818  ,  12885.51445677,  16116.59535311,  17632.03058458,\n",
       "        60597.18864089,  21328.21755485,  22582.46948605,  29530.30338122])"
      ]
     },
     "execution_count": 52,
     "metadata": {},
     "output_type": "execute_result"
    }
   ],
   "source": [
    "\n",
    "rmse_scores"
   ]
  },
  {
   "cell_type": "code",
   "execution_count": 53,
   "metadata": {},
   "outputs": [],
   "source": [
    "def print_scores(scores):\n",
    "    print(\"Scores:\",scores)\n",
    "    print(\"Mean:\",scores.mean())\n",
    "    print(\"Standard Deviation\",scores.std())"
   ]
  },
  {
   "cell_type": "code",
   "execution_count": 54,
   "metadata": {},
   "outputs": [
    {
     "name": "stdout",
     "output_type": "stream",
     "text": [
      "Scores: [ 22171.9002289   16852.77136651  25315.72286002  12344.24868468\n",
      "  46116.68955744  11399.89593445  19271.83966892  11935.01784437\n",
      "  10525.7330186   52444.74202519  34968.74319748  29116.20544567\n",
      "  13791.62567729   7582.61670059  22791.45754701  22292.16711464\n",
      "  21498.06919449  37046.07082267  37103.68902874  24300.58775042\n",
      "  24525.22648137  19393.9572691   17776.95252438  27694.65152372\n",
      "  18845.90492929  16901.24077027  40640.32960251  35709.82658337\n",
      " 165946.75502623  49598.43231292  25911.45455353  30533.04941593\n",
      "  20453.16124553  33633.77501858  48236.88015442  12255.6688366\n",
      "  24200.39141217  29015.49078738  19153.96020437  30297.9531261\n",
      "  19514.52898154  32126.75597564  26602.30708355  27814.95217759\n",
      "  33512.83407093  28018.75725478  29048.66784107  44092.3022732\n",
      "  21567.5086986   21927.55597799  20907.64833037  50752.73586726\n",
      "  42203.89287787  39160.30264293  21707.54483473  25570.93007254\n",
      "   9954.24087738  27363.87271327  26198.76380105  32050.09418711\n",
      " 200959.83042072  12394.49520567  25110.04667751  36816.31857103\n",
      "  24364.7339477   26335.7643815   40252.15222283  29403.43891453\n",
      "   9192.46036492  14599.52159996  53877.86884467  26625.29744328\n",
      "  57278.56887342  19386.75837724  41515.00933768  42497.78950498\n",
      "  41162.06865314  28934.42776568  39535.24581377  32662.98160467\n",
      "  25529.98707774  33697.4891834   95874.65261773   8967.0489161\n",
      "  46715.96254581  34625.06711088  19369.58157844  22930.8953575\n",
      "  35059.87380014  80322.57463104  20924.52720153  22763.69340863\n",
      "  25421.14746972  25609.2182603   19055.90980612  23283.21246217\n",
      "  23482.2881571   28899.18024443  68873.45499703  17472.91259472\n",
      "  31489.8338869   26633.10913434  45028.91285696  53588.5547901\n",
      "  17460.22395332  18290.28240808  36041.53356716  17567.13166357\n",
      "  20552.72522245  15110.24974308  20287.91231446  12910.61796187\n",
      "  12049.11537782  19565.71432021  28875.11528607  31845.16796557\n",
      "  76137.39752936  28639.16334423  17697.14874181  26000.40138506\n",
      "  28655.3390934   27554.70153078  15279.92735467  19812.21215248\n",
      "  30031.62047503  18071.0264374   29027.45891657  44754.28113206\n",
      "  36734.08171341  16081.03225537  34189.36308023   8109.7206428\n",
      "  24852.77414874  26807.10323546  25470.32108568  11880.64997458\n",
      "  45255.87965111  31946.36495685  27904.21485476  12694.02388388\n",
      "  24384.9734128   25473.4641761   26006.00618543  12278.79136584\n",
      "  32052.25482328  29886.42482375  34156.38120961  13643.59035561\n",
      "  12233.30351405  16524.49454291  24010.51447672  25808.32758689\n",
      "  14980.06027594  42954.71121462  30536.84227403  11755.74147134\n",
      "  27485.84598921  24903.80641424  20511.59893903  23626.45869515\n",
      "  59538.01366521  29827.52149796  28677.31754903  17929.27067487\n",
      "  49947.18539221  21886.742834    13607.97881919  60397.4711096\n",
      "  22179.67504864  31775.15635611  32678.39179398  22735.51265935\n",
      "  14945.97830991  14259.3793102   17535.52563482  15954.94718823\n",
      "  20818.46910893  17742.01026888  40226.63825013  20551.6123291\n",
      "  35685.15426401   9839.96901268  16692.53958745   5962.52466562\n",
      "  15843.88380828  30950.3896282   25463.41631095  13737.1482381\n",
      "  26240.82241329  40309.76170679  29083.33973558  22354.04343781\n",
      "  18467.256818    12885.51445677  16116.59535311  17632.03058458\n",
      "  60597.18864089  21328.21755485  22582.46948605  29530.30338122]\n",
      "Mean: 29000.439372947047\n",
      "Standard Deviation 20600.03148696188\n"
     ]
    }
   ],
   "source": [
    "print_scores(rmse_scores)"
   ]
  },
  {
   "cell_type": "code",
   "execution_count": 55,
   "metadata": {},
   "outputs": [],
   "source": [
    "y_pred=model.predict(x_test)"
   ]
  },
  {
   "cell_type": "code",
   "execution_count": 56,
   "metadata": {},
   "outputs": [
    {
     "data": {
      "text/plain": [
       "array([128859.66, 150284.82, 141819.  , ..., 140193.5 , 112530.  ,\n",
       "       234513.49])"
      ]
     },
     "execution_count": 56,
     "metadata": {},
     "output_type": "execute_result"
    }
   ],
   "source": [
    "y_pred"
   ]
  },
  {
   "cell_type": "code",
   "execution_count": 57,
   "metadata": {},
   "outputs": [],
   "source": [
    "pred=pd.DataFrame(y_pred)\n",
    "sub_df=pd.read_csv('sample_submission.csv')\n",
    "datasets=pd.concat([sub_df['Id'],pred],axis=1)\n",
    "datasets.columns=['Id','SalePrice']\n",
    "datasets.to_csv('sample_submission.csv',index=False)"
   ]
  }
 ],
 "metadata": {
  "kernelspec": {
   "display_name": "Python 3",
   "language": "python",
   "name": "python3"
  },
  "language_info": {
   "codemirror_mode": {
    "name": "ipython",
    "version": 3
   },
   "file_extension": ".py",
   "mimetype": "text/x-python",
   "name": "python",
   "nbconvert_exporter": "python",
   "pygments_lexer": "ipython3",
   "version": "3.11.2"
  }
 },
 "nbformat": 4,
 "nbformat_minor": 2
}
